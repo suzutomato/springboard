{
 "cells": [
  {
   "cell_type": "markdown",
   "metadata": {},
   "source": [
    "This exercise will require you to pull some data from the Qunadl API. Qaundl is currently the most widely used aggregator of financial market data."
   ]
  },
  {
   "cell_type": "markdown",
   "metadata": {},
   "source": [
    "As a first step, you will need to register a free account on the http://www.quandl.com website."
   ]
  },
  {
   "cell_type": "markdown",
   "metadata": {},
   "source": [
    "After you register, you will be provided with a unique API key, that you should store:"
   ]
  },
  {
   "cell_type": "code",
   "execution_count": 12,
   "metadata": {},
   "outputs": [],
   "source": [
    "# Store the API key as a string - according to PEP8, constants are always named\n",
    "# in all upper case\n",
    "\n",
    "with open('quandl_api_key.txt', 'r') as f:\n",
    "    API_KEY = f.readline()"
   ]
  },
  {
   "cell_type": "markdown",
   "metadata": {},
   "source": [
    "Qaundl has a large number of data sources, but, unfortunately, most of them require a Premium subscription. Still, there are also a good number of free datasets."
   ]
  },
  {
   "cell_type": "markdown",
   "metadata": {},
   "source": [
    "For this mini project, we will focus on equities data from the Frankfurt Stock Exhange (FSE), which is available for free. We'll try and analyze the stock prices of a company called Carl Zeiss Meditec, which manufactures tools for eye examinations, as well as medical lasers for laser eye surgery: https://www.zeiss.com/meditec/int/home.html. The company is listed under the stock ticker AFX_X."
   ]
  },
  {
   "cell_type": "markdown",
   "metadata": {},
   "source": [
    "You can find the detailed Quandl API instructions here: https://docs.quandl.com/docs/time-series"
   ]
  },
  {
   "cell_type": "markdown",
   "metadata": {},
   "source": [
    "While there is a dedicated Python package for connecting to the Quandl API, we would prefer that you use the *requests* package, which can be easily downloaded using *pip* or *conda*. You can find the documentation for the package here: http://docs.python-requests.org/en/master/ "
   ]
  },
  {
   "cell_type": "markdown",
   "metadata": {},
   "source": [
    "Finally, apart from the *requests* package, you are encouraged to not use any third party Python packages, such as *pandas*, and instead focus on what's available in the Python Standard Library (the *collections* module might come in handy: https://pymotw.com/3/collections/ ).\n",
    "Also, since you won't have access to DataFrames, you are encouraged to us Python's native data structures - preferably dictionaries, though some questions can also be answered using lists.\n",
    "You can read more on these data structures here: https://docs.python.org/3/tutorial/datastructures.html"
   ]
  },
  {
   "cell_type": "markdown",
   "metadata": {},
   "source": [
    "Keep in mind that the JSON responses you will be getting from the API map almost one-to-one to Python's dictionaries. Unfortunately, they can be very nested, so make sure you read up on indexing dictionaries in the documentation provided above."
   ]
  },
  {
   "cell_type": "code",
   "execution_count": 25,
   "metadata": {},
   "outputs": [],
   "source": [
    "# First, import the relevant modules\n",
    "import requests\n",
    "import json\n",
    "import pandas as pd\n",
    "import collections"
   ]
  },
  {
   "cell_type": "code",
   "execution_count": 41,
   "metadata": {},
   "outputs": [
    {
     "name": "stdout",
     "output_type": "stream",
     "text": [
      "{\n",
      "  \"dataset_data\": {\n",
      "    \"limit\": null,\n",
      "    \"transform\": null,\n",
      "    \"column_index\": null,\n",
      "    \"column_names\": [\n",
      "      \"Date\",\n",
      "      \"Open\",\n",
      "      \"High\",\n",
      "      \"Low\",\n",
      "      \"Close\",\n",
      "      \"Change\",\n",
      "      \"Traded Volume\",\n",
      "      \"Turnover\",\n",
      "      \"Last Price of the Day\",\n",
      "      \"Daily Traded Units\",\n",
      "      \"Daily Turnover\"\n",
      "    ],\n",
      "    \"start_date\": \"2020-04-29\",\n",
      "    \"end_date\": \"2020-04-29\",\n",
      "    \"frequency\": \"daily\",\n",
      "    \"data\": [\n",
      "      [\n",
      "        \"2020-04-29\",\n",
      "        90.0,\n",
      "        91.0,\n",
      "        87.85,\n",
      "        90.95,\n",
      "        null,\n",
      "        143888.0,\n",
      "        12901979.9,\n",
      "        null,\n",
      "        null,\n",
      "        null\n",
      "      ]\n",
      "    ],\n",
      "    \"collapse\": null,\n",
      "    \"order\": null\n",
      "  }\n",
      "}\n"
     ]
    }
   ],
   "source": [
    "# Now, call the Quandl API and pull out a small sample of the data (only one day)\n",
    "# to get a glimpse into the JSON structure that will be returned\n",
    "\n",
    "# Construct the url\n",
    "base_url = 'https://www.quandl.com/api/v3/datasets/{database_code}/{dataset_code}/'\\\n",
    "           'data.json?api_key={api_key}&start_date={start_date}&end_date={end_date}'\n",
    "url = base_url.format(database_code='FSE', dataset_code='AFX_X', api_key=API_KEY,\n",
    "                      start_date='2020-04-29', end_date='2020-04-29')\n",
    "\n",
    "# Retrieve the data\n",
    "res = requests.get(url)\n",
    "json_obj = res.json()\n",
    "\n",
    "# Print out in a pretty format\n",
    "print(json.dumps(json_obj, indent=2))"
   ]
  },
  {
   "cell_type": "code",
   "execution_count": 39,
   "metadata": {},
   "outputs": [],
   "source": [
    "# Inspect the JSON structure of the object you created, and take note of how nested it is,\n",
    "# as well as the overall structure"
   ]
  },
  {
   "cell_type": "markdown",
   "metadata": {},
   "source": [
    "Data is contained under 'dataset_date' key and consists of the following fields.\n",
    "\n",
    "**Field information**\n",
    "Source: https://docs.quandl.com/docs/parameters-2\n",
    "\n",
    "- limit: int. meaning extracted first n rows.\n",
    "- transform: str. show if elementary calculation was performed.\n",
    "- column_indx: int. if columns to extract specified\n",
    "- column_names: list of str, column headers\n",
    "- start_date: str. Date the first data retrieved is on (inclusive).\n",
    "- end_date: str. Date the last data retrieved is on (inclusive).\n",
    "- frequency: str. Frequency to collapse data. Can be daily or longer.\n",
    "- data: list of any types. values.\n",
    "- collapse: str. data frequency if data is collapsed, none means as in the original.\n",
    "- order: str. ascending or descending."
   ]
  },
  {
   "cell_type": "markdown",
   "metadata": {},
   "source": [
    "These are your tasks for this mini project:\n",
    "\n",
    "1. Collect data from the Franfurt Stock Exchange, for the ticker AFX_X, for the whole year 2017 (keep in mind that the date format is YYYY-MM-DD).\n",
    "2. Convert the returned JSON object into a Python dictionary.\n",
    "3. Calculate what the highest and lowest opening prices were for the stock in this period.\n",
    "4. What was the largest change in any one day (based on High and Low price)?\n",
    "5. What was the largest change between any two days (based on Closing Price)?\n",
    "6. What was the average daily trading volume during this year?\n",
    "7. (Optional) What was the median trading volume during this year. (Note: you may need to implement your own function for calculating the median.)"
   ]
  },
  {
   "cell_type": "code",
   "execution_count": 94,
   "metadata": {},
   "outputs": [],
   "source": [
    "# Step 1: Retrieve data\n",
    "url = base_url.format(database_code='FSE', dataset_code='AFX_X', api_key=API_KEY,\n",
    "                      start_date='2017-01-01', end_date='2017-12-31')\n",
    "res = requests.get(url)  # Retrieve data\n",
    "json_data = res.json()   # Convert retrieved text into JSON (=dict)\n",
    "json_data = json_data['dataset_data']  # unnest the first key\n",
    "\n",
    "# Step 2: Create a DataFrame with the retrived JSON data\n",
    "df = pd.DataFrame(json_data['data'], columns=json_data['column_names'])"
   ]
  },
  {
   "cell_type": "code",
   "execution_count": 96,
   "metadata": {},
   "outputs": [
    {
     "data": {
      "text/html": [
       "<div>\n",
       "<style scoped>\n",
       "    .dataframe tbody tr th:only-of-type {\n",
       "        vertical-align: middle;\n",
       "    }\n",
       "\n",
       "    .dataframe tbody tr th {\n",
       "        vertical-align: top;\n",
       "    }\n",
       "\n",
       "    .dataframe thead th {\n",
       "        text-align: right;\n",
       "    }\n",
       "</style>\n",
       "<table border=\"1\" class=\"dataframe\">\n",
       "  <thead>\n",
       "    <tr style=\"text-align: right;\">\n",
       "      <th></th>\n",
       "      <th>Date</th>\n",
       "      <th>Open</th>\n",
       "      <th>High</th>\n",
       "      <th>Low</th>\n",
       "      <th>Close</th>\n",
       "      <th>Change</th>\n",
       "      <th>Traded Volume</th>\n",
       "      <th>Turnover</th>\n",
       "      <th>Last Price of the Day</th>\n",
       "      <th>Daily Traded Units</th>\n",
       "      <th>Daily Turnover</th>\n",
       "    </tr>\n",
       "  </thead>\n",
       "  <tbody>\n",
       "    <tr>\n",
       "      <th>0</th>\n",
       "      <td>2017-12-29</td>\n",
       "      <td>51.76</td>\n",
       "      <td>51.94</td>\n",
       "      <td>51.45</td>\n",
       "      <td>51.76</td>\n",
       "      <td>NaN</td>\n",
       "      <td>34640.0</td>\n",
       "      <td>1792304.0</td>\n",
       "      <td>None</td>\n",
       "      <td>None</td>\n",
       "      <td>None</td>\n",
       "    </tr>\n",
       "    <tr>\n",
       "      <th>1</th>\n",
       "      <td>2017-12-28</td>\n",
       "      <td>51.65</td>\n",
       "      <td>51.82</td>\n",
       "      <td>51.43</td>\n",
       "      <td>51.60</td>\n",
       "      <td>NaN</td>\n",
       "      <td>40660.0</td>\n",
       "      <td>2099024.0</td>\n",
       "      <td>None</td>\n",
       "      <td>None</td>\n",
       "      <td>None</td>\n",
       "    </tr>\n",
       "    <tr>\n",
       "      <th>2</th>\n",
       "      <td>2017-12-27</td>\n",
       "      <td>51.45</td>\n",
       "      <td>51.89</td>\n",
       "      <td>50.76</td>\n",
       "      <td>51.82</td>\n",
       "      <td>NaN</td>\n",
       "      <td>57452.0</td>\n",
       "      <td>2957018.0</td>\n",
       "      <td>None</td>\n",
       "      <td>None</td>\n",
       "      <td>None</td>\n",
       "    </tr>\n",
       "    <tr>\n",
       "      <th>3</th>\n",
       "      <td>2017-12-22</td>\n",
       "      <td>51.05</td>\n",
       "      <td>51.50</td>\n",
       "      <td>50.92</td>\n",
       "      <td>51.32</td>\n",
       "      <td>NaN</td>\n",
       "      <td>71165.0</td>\n",
       "      <td>3641949.0</td>\n",
       "      <td>None</td>\n",
       "      <td>None</td>\n",
       "      <td>None</td>\n",
       "    </tr>\n",
       "    <tr>\n",
       "      <th>4</th>\n",
       "      <td>2017-12-21</td>\n",
       "      <td>51.16</td>\n",
       "      <td>51.52</td>\n",
       "      <td>50.90</td>\n",
       "      <td>51.40</td>\n",
       "      <td>NaN</td>\n",
       "      <td>120649.0</td>\n",
       "      <td>6179433.0</td>\n",
       "      <td>None</td>\n",
       "      <td>None</td>\n",
       "      <td>None</td>\n",
       "    </tr>\n",
       "  </tbody>\n",
       "</table>\n",
       "</div>"
      ],
      "text/plain": [
       "         Date   Open   High    Low  Close  Change  Traded Volume   Turnover  \\\n",
       "0  2017-12-29  51.76  51.94  51.45  51.76     NaN        34640.0  1792304.0   \n",
       "1  2017-12-28  51.65  51.82  51.43  51.60     NaN        40660.0  2099024.0   \n",
       "2  2017-12-27  51.45  51.89  50.76  51.82     NaN        57452.0  2957018.0   \n",
       "3  2017-12-22  51.05  51.50  50.92  51.32     NaN        71165.0  3641949.0   \n",
       "4  2017-12-21  51.16  51.52  50.90  51.40     NaN       120649.0  6179433.0   \n",
       "\n",
       "  Last Price of the Day Daily Traded Units Daily Turnover  \n",
       "0                  None               None           None  \n",
       "1                  None               None           None  \n",
       "2                  None               None           None  \n",
       "3                  None               None           None  \n",
       "4                  None               None           None  "
      ]
     },
     "execution_count": 96,
     "metadata": {},
     "output_type": "execute_result"
    }
   ],
   "source": [
    "# Check the head of df\n",
    "df.head()"
   ]
  },
  {
   "cell_type": "code",
   "execution_count": 98,
   "metadata": {},
   "outputs": [
    {
     "name": "stdout",
     "output_type": "stream",
     "text": [
      "<class 'pandas.core.frame.DataFrame'>\n",
      "RangeIndex: 255 entries, 0 to 254\n",
      "Data columns (total 11 columns):\n",
      " #   Column                 Non-Null Count  Dtype  \n",
      "---  ------                 --------------  -----  \n",
      " 0   Date                   255 non-null    object \n",
      " 1   Open                   252 non-null    float64\n",
      " 2   High                   255 non-null    float64\n",
      " 3   Low                    255 non-null    float64\n",
      " 4   Close                  255 non-null    float64\n",
      " 5   Change                 1 non-null      float64\n",
      " 6   Traded Volume          255 non-null    float64\n",
      " 7   Turnover               255 non-null    float64\n",
      " 8   Last Price of the Day  0 non-null      object \n",
      " 9   Daily Traded Units     0 non-null      object \n",
      " 10  Daily Turnover         0 non-null      object \n",
      "dtypes: float64(7), object(4)\n",
      "memory usage: 22.0+ KB\n"
     ]
    }
   ],
   "source": [
    "# Check for Null values\n",
    "df.info()"
   ]
  },
  {
   "cell_type": "code",
   "execution_count": 99,
   "metadata": {},
   "outputs": [
    {
     "data": {
      "text/html": [
       "<div>\n",
       "<style scoped>\n",
       "    .dataframe tbody tr th:only-of-type {\n",
       "        vertical-align: middle;\n",
       "    }\n",
       "\n",
       "    .dataframe tbody tr th {\n",
       "        vertical-align: top;\n",
       "    }\n",
       "\n",
       "    .dataframe thead th {\n",
       "        text-align: right;\n",
       "    }\n",
       "</style>\n",
       "<table border=\"1\" class=\"dataframe\">\n",
       "  <thead>\n",
       "    <tr style=\"text-align: right;\">\n",
       "      <th></th>\n",
       "      <th>Date</th>\n",
       "      <th>Open</th>\n",
       "      <th>High</th>\n",
       "      <th>Low</th>\n",
       "      <th>Close</th>\n",
       "      <th>Change</th>\n",
       "      <th>Traded Volume</th>\n",
       "      <th>Turnover</th>\n",
       "      <th>Last Price of the Day</th>\n",
       "      <th>Daily Traded Units</th>\n",
       "      <th>Daily Turnover</th>\n",
       "    </tr>\n",
       "  </thead>\n",
       "  <tbody>\n",
       "    <tr>\n",
       "      <th>169</th>\n",
       "      <td>2017-05-01</td>\n",
       "      <td>NaN</td>\n",
       "      <td>42.245</td>\n",
       "      <td>41.655</td>\n",
       "      <td>41.72</td>\n",
       "      <td>-0.44</td>\n",
       "      <td>86348.0</td>\n",
       "      <td>3606589.0</td>\n",
       "      <td>None</td>\n",
       "      <td>None</td>\n",
       "      <td>None</td>\n",
       "    </tr>\n",
       "    <tr>\n",
       "      <th>179</th>\n",
       "      <td>2017-04-17</td>\n",
       "      <td>NaN</td>\n",
       "      <td>42.480</td>\n",
       "      <td>41.985</td>\n",
       "      <td>42.20</td>\n",
       "      <td>NaN</td>\n",
       "      <td>88416.0</td>\n",
       "      <td>3734717.0</td>\n",
       "      <td>None</td>\n",
       "      <td>None</td>\n",
       "      <td>None</td>\n",
       "    </tr>\n",
       "    <tr>\n",
       "      <th>180</th>\n",
       "      <td>2017-04-14</td>\n",
       "      <td>NaN</td>\n",
       "      <td>42.480</td>\n",
       "      <td>41.985</td>\n",
       "      <td>42.20</td>\n",
       "      <td>NaN</td>\n",
       "      <td>88416.0</td>\n",
       "      <td>3734717.0</td>\n",
       "      <td>None</td>\n",
       "      <td>None</td>\n",
       "      <td>None</td>\n",
       "    </tr>\n",
       "  </tbody>\n",
       "</table>\n",
       "</div>"
      ],
      "text/plain": [
       "           Date  Open    High     Low  Close  Change  Traded Volume  \\\n",
       "169  2017-05-01   NaN  42.245  41.655  41.72   -0.44        86348.0   \n",
       "179  2017-04-17   NaN  42.480  41.985  42.20     NaN        88416.0   \n",
       "180  2017-04-14   NaN  42.480  41.985  42.20     NaN        88416.0   \n",
       "\n",
       "      Turnover Last Price of the Day Daily Traded Units Daily Turnover  \n",
       "169  3606589.0                  None               None           None  \n",
       "179  3734717.0                  None               None           None  \n",
       "180  3734717.0                  None               None           None  "
      ]
     },
     "execution_count": 99,
     "metadata": {},
     "output_type": "execute_result"
    }
   ],
   "source": [
    "# Find where Open variable is NaN (not going to remove them though)\n",
    "df[df.Open.isnull()]"
   ]
  },
  {
   "cell_type": "code",
   "execution_count": 112,
   "metadata": {},
   "outputs": [
    {
     "name": "stdout",
     "output_type": "stream",
     "text": [
      "Step 3: Highest and lowest opening price in 2017\n",
      "Highest: $53.11\n",
      "Lowest : $34.00\n"
     ]
    }
   ],
   "source": [
    "# Step 3: Find the highest and lowest opening price\n",
    "highest = df.Open.max()\n",
    "lowest = df.Open.min()\n",
    "print(f'Step 3: Highest and lowest opening price in 2017\\n'\\\n",
    "      f'Highest: ${highest:.2f}\\nLowest : ${lowest:.2f}')"
   ]
  },
  {
   "cell_type": "code",
   "execution_count": 111,
   "metadata": {},
   "outputs": [
    {
     "name": "stdout",
     "output_type": "stream",
     "text": [
      "Step 4: Lagest change in any one day\n",
      "2017-05-11: $2.81\n"
     ]
    }
   ],
   "source": [
    "# Step 4: The largest change in any one day.\n",
    "df['Diff'] = df['High'] - df['Low']\n",
    "\n",
    "idx_lc = df['Diff'].idxmax()  # index of the day with the largest diff\n",
    "date_lc = df.iloc[idx].Date\n",
    "diff_lc = df.iloc[idx].Diff\n",
    "\n",
    "print(f'Step 4: Lagest change in any one day\\n{date_lc:}: ${diff_lc:,.2f}')"
   ]
  },
  {
   "cell_type": "code",
   "execution_count": 105,
   "metadata": {},
   "outputs": [
    {
     "name": "stdout",
     "output_type": "stream",
     "text": [
      "Step 5: Largest change between 2 days\n",
      "2017-08-08~2017-08-09: $-2.56\n"
     ]
    }
   ],
   "source": [
    "# Step 5: What was the largest change between any two days (based on Closing Price)?\n",
    "df['Delta'] = df.Close.diff(periods=-1)  # Note df.Date is in the descending order\n",
    "df['Delta_abs'] = df.Delta.abs()  # To find the largest diff, we'll check abs. diff\n",
    "\n",
    "idx_md = df.Delta_abs.idxmax()  # index of the 'to' date with the largest diff\n",
    "date_md_from = df.Date.iloc[idx_md+1]\n",
    "date_md_to = df.Date.iloc[idx_md]\n",
    "delta_md = df.Delta.iloc[idx_md]\n",
    "\n",
    "print(f'Step 5: Largest change between 2 days\\n'\\\n",
    "      f'{date_md_from:}~{date_md_to}: ${delta_md:.2f}')"
   ]
  },
  {
   "cell_type": "code",
   "execution_count": 115,
   "metadata": {},
   "outputs": [
    {
     "name": "stdout",
     "output_type": "stream",
     "text": [
      "Step 6. The average daily trading volume: 89,124\n"
     ]
    }
   ],
   "source": [
    "# Step 6. What was the average daily trading volume during this year?\n",
    "print('Step 6. The average daily trading volume: {:,.0f}'\\\n",
    "      .format(df['Traded Volume'].mean()))"
   ]
  },
  {
   "cell_type": "code",
   "execution_count": 118,
   "metadata": {},
   "outputs": [
    {
     "name": "stdout",
     "output_type": "stream",
     "text": [
      "Step 7: Median trading volume during this year: 76,286\n"
     ]
    }
   ],
   "source": [
    "# Step 7. What was the median trading volume during this year. \n",
    "print('Step 7: Median trading volume during this year: {:,.0f}'\\\n",
    "      .format(df['Traded Volume'].median()))"
   ]
  }
 ],
 "metadata": {
  "kernelspec": {
   "display_name": "Python 3",
   "language": "python",
   "name": "python3"
  },
  "language_info": {
   "codemirror_mode": {
    "name": "ipython",
    "version": 3
   },
   "file_extension": ".py",
   "mimetype": "text/x-python",
   "name": "python",
   "nbconvert_exporter": "python",
   "pygments_lexer": "ipython3",
   "version": "3.7.6"
  }
 },
 "nbformat": 4,
 "nbformat_minor": 2
}
