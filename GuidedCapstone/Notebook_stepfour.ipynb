{
 "cells": [
  {
   "cell_type": "markdown",
   "metadata": {
    "colab_type": "text",
    "id": "cf5CmXQCZyF1"
   },
   "source": [
    "# Guided Capstone Step 4 - Pre-processing and Training Data Development"
   ]
  },
  {
   "cell_type": "markdown",
   "metadata": {
    "colab_type": "text",
    "id": "JbZXsVevfr9M"
   },
   "source": [
    "### **The Data Science Method**  \n",
    "\n",
    "\n",
    "1.   Problem Identification \n",
    "\n",
    "2.   Data Wrangling \n",
    "  \n",
    "3.   Exploratory Data Analysis \n",
    " \n",
    "4.   **Pre-processing and Training Data Development**\n",
    "\n",
    "5.  Modeling\n",
    "  * Fit Models with Training Data Set\n",
    "  * Review Model Outcomes — Iterate over additional models as needed.\n",
    "  * Identify the Final Model\n",
    "\n",
    "6.   Documentation\n",
    "  * Review the Results\n",
    "  * Present and share your findings - storytelling\n",
    "  * Finalize Code \n",
    "  * Finalize Documentation"
   ]
  },
  {
   "cell_type": "markdown",
   "metadata": {
    "colab_type": "text",
    "id": "GyZga0DpAnq7"
   },
   "source": [
    "In this step of the guided capstone, you'll revisit some of the steps you completed to solve questions in step 4. Revisiting these steps will help you get additional practice completing this kind of work."
   ]
  },
  {
   "cell_type": "markdown",
   "metadata": {
    "colab_type": "text",
    "id": "K8xfkAqqZyF2"
   },
   "source": [
    "**<font color='teal'> Start by loading the necessary packages, as you've done in the previous steps. Print out your current working directory to confirm that you are in the correct project directory. </font>**"
   ]
  },
  {
   "cell_type": "code",
   "execution_count": 1,
   "metadata": {
    "colab": {},
    "colab_type": "code",
    "id": "ry6WPL5eZyF3"
   },
   "outputs": [],
   "source": [
    "import datetime\n",
    "import os \n",
    "\n",
    "import matplotlib.pyplot as plt\n",
    "import numpy as np\n",
    "import pandas as pd\n",
    "import seaborn as sns\n",
    "%matplotlib inline"
   ]
  },
  {
   "cell_type": "markdown",
   "metadata": {
    "colab_type": "text",
    "id": "630T-ogRZyF8"
   },
   "source": [
    "**<font color='teal'>  Load the csv file you created in step 3. Remember, it should be saved inside your data subfolder. Print the first five rows.</font>**"
   ]
  },
  {
   "cell_type": "code",
   "execution_count": 2,
   "metadata": {
    "colab": {},
    "colab_type": "code",
    "id": "dMNbk0u3ZyF9"
   },
   "outputs": [
    {
     "data": {
      "text/html": [
       "<div>\n",
       "<style scoped>\n",
       "    .dataframe tbody tr th:only-of-type {\n",
       "        vertical-align: middle;\n",
       "    }\n",
       "\n",
       "    .dataframe tbody tr th {\n",
       "        vertical-align: top;\n",
       "    }\n",
       "\n",
       "    .dataframe thead th {\n",
       "        text-align: right;\n",
       "    }\n",
       "</style>\n",
       "<table border=\"1\" class=\"dataframe\">\n",
       "  <thead>\n",
       "    <tr style=\"text-align: right;\">\n",
       "      <th></th>\n",
       "      <th>0</th>\n",
       "      <th>1</th>\n",
       "      <th>2</th>\n",
       "      <th>3</th>\n",
       "      <th>4</th>\n",
       "    </tr>\n",
       "  </thead>\n",
       "  <tbody>\n",
       "    <tr>\n",
       "      <th>Name</th>\n",
       "      <td>Hilltop Ski Area</td>\n",
       "      <td>Arizona Snowbowl</td>\n",
       "      <td>Sunrise Park Resort</td>\n",
       "      <td>Yosemite Ski &amp; Snowboard Area</td>\n",
       "      <td>Bear Valley</td>\n",
       "    </tr>\n",
       "    <tr>\n",
       "      <th>state</th>\n",
       "      <td>Alaska</td>\n",
       "      <td>Arizona</td>\n",
       "      <td>Arizona</td>\n",
       "      <td>California</td>\n",
       "      <td>California</td>\n",
       "    </tr>\n",
       "    <tr>\n",
       "      <th>summit_elev</th>\n",
       "      <td>2090</td>\n",
       "      <td>11500</td>\n",
       "      <td>11100</td>\n",
       "      <td>7800</td>\n",
       "      <td>8500</td>\n",
       "    </tr>\n",
       "    <tr>\n",
       "      <th>vertical_drop</th>\n",
       "      <td>294</td>\n",
       "      <td>2300</td>\n",
       "      <td>1800</td>\n",
       "      <td>600</td>\n",
       "      <td>1900</td>\n",
       "    </tr>\n",
       "    <tr>\n",
       "      <th>trams</th>\n",
       "      <td>0</td>\n",
       "      <td>0</td>\n",
       "      <td>0</td>\n",
       "      <td>0</td>\n",
       "      <td>0</td>\n",
       "    </tr>\n",
       "    <tr>\n",
       "      <th>fastEight</th>\n",
       "      <td>0</td>\n",
       "      <td>0</td>\n",
       "      <td>0</td>\n",
       "      <td>0</td>\n",
       "      <td>0</td>\n",
       "    </tr>\n",
       "    <tr>\n",
       "      <th>fastSixes</th>\n",
       "      <td>0</td>\n",
       "      <td>1</td>\n",
       "      <td>0</td>\n",
       "      <td>0</td>\n",
       "      <td>1</td>\n",
       "    </tr>\n",
       "    <tr>\n",
       "      <th>fastQuads</th>\n",
       "      <td>0</td>\n",
       "      <td>0</td>\n",
       "      <td>1</td>\n",
       "      <td>0</td>\n",
       "      <td>1</td>\n",
       "    </tr>\n",
       "    <tr>\n",
       "      <th>quad</th>\n",
       "      <td>0</td>\n",
       "      <td>2</td>\n",
       "      <td>2</td>\n",
       "      <td>0</td>\n",
       "      <td>0</td>\n",
       "    </tr>\n",
       "    <tr>\n",
       "      <th>triple</th>\n",
       "      <td>1</td>\n",
       "      <td>2</td>\n",
       "      <td>3</td>\n",
       "      <td>1</td>\n",
       "      <td>2</td>\n",
       "    </tr>\n",
       "    <tr>\n",
       "      <th>double</th>\n",
       "      <td>0</td>\n",
       "      <td>1</td>\n",
       "      <td>1</td>\n",
       "      <td>3</td>\n",
       "      <td>4</td>\n",
       "    </tr>\n",
       "    <tr>\n",
       "      <th>surface</th>\n",
       "      <td>2</td>\n",
       "      <td>2</td>\n",
       "      <td>0</td>\n",
       "      <td>1</td>\n",
       "      <td>2</td>\n",
       "    </tr>\n",
       "    <tr>\n",
       "      <th>total_chairs</th>\n",
       "      <td>3</td>\n",
       "      <td>8</td>\n",
       "      <td>7</td>\n",
       "      <td>5</td>\n",
       "      <td>10</td>\n",
       "    </tr>\n",
       "    <tr>\n",
       "      <th>Runs</th>\n",
       "      <td>13</td>\n",
       "      <td>55</td>\n",
       "      <td>65</td>\n",
       "      <td>10</td>\n",
       "      <td>67</td>\n",
       "    </tr>\n",
       "    <tr>\n",
       "      <th>TerrainParks</th>\n",
       "      <td>1</td>\n",
       "      <td>4</td>\n",
       "      <td>2</td>\n",
       "      <td>2</td>\n",
       "      <td>2</td>\n",
       "    </tr>\n",
       "    <tr>\n",
       "      <th>LongestRun_mi</th>\n",
       "      <td>1</td>\n",
       "      <td>2</td>\n",
       "      <td>1.2</td>\n",
       "      <td>0.4</td>\n",
       "      <td>1.2</td>\n",
       "    </tr>\n",
       "    <tr>\n",
       "      <th>SkiableTerrain_ac</th>\n",
       "      <td>30</td>\n",
       "      <td>777</td>\n",
       "      <td>800</td>\n",
       "      <td>88</td>\n",
       "      <td>1680</td>\n",
       "    </tr>\n",
       "    <tr>\n",
       "      <th>Snow Making_ac</th>\n",
       "      <td>30</td>\n",
       "      <td>104</td>\n",
       "      <td>80</td>\n",
       "      <td>174.873</td>\n",
       "      <td>100</td>\n",
       "    </tr>\n",
       "    <tr>\n",
       "      <th>daysOpenLastYear</th>\n",
       "      <td>150</td>\n",
       "      <td>122</td>\n",
       "      <td>115</td>\n",
       "      <td>110</td>\n",
       "      <td>165</td>\n",
       "    </tr>\n",
       "    <tr>\n",
       "      <th>yearsOpen</th>\n",
       "      <td>36</td>\n",
       "      <td>81</td>\n",
       "      <td>49</td>\n",
       "      <td>84</td>\n",
       "      <td>52</td>\n",
       "    </tr>\n",
       "    <tr>\n",
       "      <th>averageSnowfall</th>\n",
       "      <td>69</td>\n",
       "      <td>260</td>\n",
       "      <td>250</td>\n",
       "      <td>300</td>\n",
       "      <td>359</td>\n",
       "    </tr>\n",
       "    <tr>\n",
       "      <th>AdultWeekday</th>\n",
       "      <td>30</td>\n",
       "      <td>89</td>\n",
       "      <td>74</td>\n",
       "      <td>47</td>\n",
       "      <td>57.917</td>\n",
       "    </tr>\n",
       "    <tr>\n",
       "      <th>AdultWeekend</th>\n",
       "      <td>34</td>\n",
       "      <td>89</td>\n",
       "      <td>78</td>\n",
       "      <td>47</td>\n",
       "      <td>64.1668</td>\n",
       "    </tr>\n",
       "    <tr>\n",
       "      <th>projectedDaysOpen</th>\n",
       "      <td>152</td>\n",
       "      <td>122</td>\n",
       "      <td>104</td>\n",
       "      <td>107</td>\n",
       "      <td>151</td>\n",
       "    </tr>\n",
       "    <tr>\n",
       "      <th>NightSkiing_ac</th>\n",
       "      <td>30</td>\n",
       "      <td>0</td>\n",
       "      <td>80</td>\n",
       "      <td>0</td>\n",
       "      <td>0</td>\n",
       "    </tr>\n",
       "    <tr>\n",
       "      <th>cluster</th>\n",
       "      <td>1</td>\n",
       "      <td>2</td>\n",
       "      <td>2</td>\n",
       "      <td>2</td>\n",
       "      <td>2</td>\n",
       "    </tr>\n",
       "  </tbody>\n",
       "</table>\n",
       "</div>"
      ],
      "text/plain": [
       "                                  0                 1                    2  \\\n",
       "Name               Hilltop Ski Area  Arizona Snowbowl  Sunrise Park Resort   \n",
       "state                        Alaska           Arizona              Arizona   \n",
       "summit_elev                    2090             11500                11100   \n",
       "vertical_drop                   294              2300                 1800   \n",
       "trams                             0                 0                    0   \n",
       "fastEight                         0                 0                    0   \n",
       "fastSixes                         0                 1                    0   \n",
       "fastQuads                         0                 0                    1   \n",
       "quad                              0                 2                    2   \n",
       "triple                            1                 2                    3   \n",
       "double                            0                 1                    1   \n",
       "surface                           2                 2                    0   \n",
       "total_chairs                      3                 8                    7   \n",
       "Runs                             13                55                   65   \n",
       "TerrainParks                      1                 4                    2   \n",
       "LongestRun_mi                     1                 2                  1.2   \n",
       "SkiableTerrain_ac                30               777                  800   \n",
       "Snow Making_ac                   30               104                   80   \n",
       "daysOpenLastYear                150               122                  115   \n",
       "yearsOpen                        36                81                   49   \n",
       "averageSnowfall                  69               260                  250   \n",
       "AdultWeekday                     30                89                   74   \n",
       "AdultWeekend                     34                89                   78   \n",
       "projectedDaysOpen               152               122                  104   \n",
       "NightSkiing_ac                   30                 0                   80   \n",
       "cluster                           1                 2                    2   \n",
       "\n",
       "                                               3            4  \n",
       "Name               Yosemite Ski & Snowboard Area  Bear Valley  \n",
       "state                                 California   California  \n",
       "summit_elev                                 7800         8500  \n",
       "vertical_drop                                600         1900  \n",
       "trams                                          0            0  \n",
       "fastEight                                      0            0  \n",
       "fastSixes                                      0            1  \n",
       "fastQuads                                      0            1  \n",
       "quad                                           0            0  \n",
       "triple                                         1            2  \n",
       "double                                         3            4  \n",
       "surface                                        1            2  \n",
       "total_chairs                                   5           10  \n",
       "Runs                                          10           67  \n",
       "TerrainParks                                   2            2  \n",
       "LongestRun_mi                                0.4          1.2  \n",
       "SkiableTerrain_ac                             88         1680  \n",
       "Snow Making_ac                           174.873          100  \n",
       "daysOpenLastYear                             110          165  \n",
       "yearsOpen                                     84           52  \n",
       "averageSnowfall                              300          359  \n",
       "AdultWeekday                                  47       57.917  \n",
       "AdultWeekend                                  47      64.1668  \n",
       "projectedDaysOpen                            107          151  \n",
       "NightSkiing_ac                                 0            0  \n",
       "cluster                                        2            2  "
      ]
     },
     "execution_count": 2,
     "metadata": {},
     "output_type": "execute_result"
    }
   ],
   "source": [
    "df = pd.read_csv('./data/step3_output.csv')\n",
    "df.head().T #Transposed to show column names"
   ]
  },
  {
   "cell_type": "markdown",
   "metadata": {},
   "source": [
    "## Standardize the magnitude of numeric features\n",
    "\n",
    "**<font color='teal'> Using sklearn preprocessing, standardize the scale of the features of the dataframe except the name of the resort, which you don't need in the dataframe for modeling so it can be droppped here as well. You should  hold out your response variable(s) so that you can have their true values available for model performance review. Let's set `AdultWeekend` to the y variable as your response for scaling and modeling. Later, you will go back and consider the `AdultWeekday`, `dayOpenLastYear`, and `projectedDaysOpen`. For now leave, them in the development dataframe. </font>**"
   ]
  },
  {
   "cell_type": "code",
   "execution_count": 3,
   "metadata": {},
   "outputs": [
    {
     "data": {
      "text/html": [
       "<div>\n",
       "<style scoped>\n",
       "    .dataframe tbody tr th:only-of-type {\n",
       "        vertical-align: middle;\n",
       "    }\n",
       "\n",
       "    .dataframe tbody tr th {\n",
       "        vertical-align: top;\n",
       "    }\n",
       "\n",
       "    .dataframe thead th {\n",
       "        text-align: right;\n",
       "    }\n",
       "</style>\n",
       "<table border=\"1\" class=\"dataframe\">\n",
       "  <thead>\n",
       "    <tr style=\"text-align: right;\">\n",
       "      <th></th>\n",
       "      <th>count</th>\n",
       "      <th>mean</th>\n",
       "      <th>std</th>\n",
       "      <th>min</th>\n",
       "      <th>25%</th>\n",
       "      <th>50%</th>\n",
       "      <th>75%</th>\n",
       "      <th>max</th>\n",
       "    </tr>\n",
       "  </thead>\n",
       "  <tbody>\n",
       "    <tr>\n",
       "      <th>summit_elev</th>\n",
       "      <td>279.0</td>\n",
       "      <td>3913.275986</td>\n",
       "      <td>3298.684977</td>\n",
       "      <td>315.0</td>\n",
       "      <td>1285.0</td>\n",
       "      <td>2250.000000</td>\n",
       "      <td>6818.500000</td>\n",
       "      <td>12075.0</td>\n",
       "    </tr>\n",
       "    <tr>\n",
       "      <th>vertical_drop</th>\n",
       "      <td>279.0</td>\n",
       "      <td>988.573477</td>\n",
       "      <td>706.141961</td>\n",
       "      <td>60.0</td>\n",
       "      <td>425.0</td>\n",
       "      <td>750.000000</td>\n",
       "      <td>1500.000000</td>\n",
       "      <td>3430.0</td>\n",
       "    </tr>\n",
       "    <tr>\n",
       "      <th>trams</th>\n",
       "      <td>279.0</td>\n",
       "      <td>0.046595</td>\n",
       "      <td>0.227548</td>\n",
       "      <td>0.0</td>\n",
       "      <td>0.0</td>\n",
       "      <td>0.000000</td>\n",
       "      <td>0.000000</td>\n",
       "      <td>2.0</td>\n",
       "    </tr>\n",
       "    <tr>\n",
       "      <th>fastEight</th>\n",
       "      <td>279.0</td>\n",
       "      <td>0.000000</td>\n",
       "      <td>0.000000</td>\n",
       "      <td>0.0</td>\n",
       "      <td>0.0</td>\n",
       "      <td>0.000000</td>\n",
       "      <td>0.000000</td>\n",
       "      <td>0.0</td>\n",
       "    </tr>\n",
       "    <tr>\n",
       "      <th>fastSixes</th>\n",
       "      <td>279.0</td>\n",
       "      <td>0.096774</td>\n",
       "      <td>0.408485</td>\n",
       "      <td>0.0</td>\n",
       "      <td>0.0</td>\n",
       "      <td>0.000000</td>\n",
       "      <td>0.000000</td>\n",
       "      <td>4.0</td>\n",
       "    </tr>\n",
       "    <tr>\n",
       "      <th>fastQuads</th>\n",
       "      <td>279.0</td>\n",
       "      <td>0.508961</td>\n",
       "      <td>1.017345</td>\n",
       "      <td>0.0</td>\n",
       "      <td>0.0</td>\n",
       "      <td>0.000000</td>\n",
       "      <td>1.000000</td>\n",
       "      <td>6.0</td>\n",
       "    </tr>\n",
       "    <tr>\n",
       "      <th>quad</th>\n",
       "      <td>279.0</td>\n",
       "      <td>0.845878</td>\n",
       "      <td>1.184997</td>\n",
       "      <td>0.0</td>\n",
       "      <td>0.0</td>\n",
       "      <td>0.000000</td>\n",
       "      <td>1.000000</td>\n",
       "      <td>8.0</td>\n",
       "    </tr>\n",
       "    <tr>\n",
       "      <th>triple</th>\n",
       "      <td>279.0</td>\n",
       "      <td>1.390681</td>\n",
       "      <td>1.536622</td>\n",
       "      <td>0.0</td>\n",
       "      <td>0.0</td>\n",
       "      <td>1.000000</td>\n",
       "      <td>2.000000</td>\n",
       "      <td>8.0</td>\n",
       "    </tr>\n",
       "    <tr>\n",
       "      <th>double</th>\n",
       "      <td>279.0</td>\n",
       "      <td>1.792115</td>\n",
       "      <td>1.817127</td>\n",
       "      <td>0.0</td>\n",
       "      <td>0.5</td>\n",
       "      <td>1.000000</td>\n",
       "      <td>3.000000</td>\n",
       "      <td>14.0</td>\n",
       "    </tr>\n",
       "    <tr>\n",
       "      <th>surface</th>\n",
       "      <td>279.0</td>\n",
       "      <td>2.394265</td>\n",
       "      <td>1.638817</td>\n",
       "      <td>0.0</td>\n",
       "      <td>1.0</td>\n",
       "      <td>2.000000</td>\n",
       "      <td>3.000000</td>\n",
       "      <td>9.0</td>\n",
       "    </tr>\n",
       "    <tr>\n",
       "      <th>total_chairs</th>\n",
       "      <td>279.0</td>\n",
       "      <td>7.075269</td>\n",
       "      <td>3.611243</td>\n",
       "      <td>0.0</td>\n",
       "      <td>5.0</td>\n",
       "      <td>6.000000</td>\n",
       "      <td>9.000000</td>\n",
       "      <td>27.0</td>\n",
       "    </tr>\n",
       "    <tr>\n",
       "      <th>Runs</th>\n",
       "      <td>279.0</td>\n",
       "      <td>37.278295</td>\n",
       "      <td>25.284831</td>\n",
       "      <td>3.0</td>\n",
       "      <td>18.0</td>\n",
       "      <td>28.000000</td>\n",
       "      <td>51.000000</td>\n",
       "      <td>120.0</td>\n",
       "    </tr>\n",
       "    <tr>\n",
       "      <th>TerrainParks</th>\n",
       "      <td>279.0</td>\n",
       "      <td>2.580414</td>\n",
       "      <td>1.482908</td>\n",
       "      <td>1.0</td>\n",
       "      <td>1.0</td>\n",
       "      <td>2.000000</td>\n",
       "      <td>3.000000</td>\n",
       "      <td>10.0</td>\n",
       "    </tr>\n",
       "    <tr>\n",
       "      <th>LongestRun_mi</th>\n",
       "      <td>279.0</td>\n",
       "      <td>1.167979</td>\n",
       "      <td>0.825353</td>\n",
       "      <td>0.0</td>\n",
       "      <td>0.5</td>\n",
       "      <td>1.000000</td>\n",
       "      <td>1.500000</td>\n",
       "      <td>4.0</td>\n",
       "    </tr>\n",
       "    <tr>\n",
       "      <th>SkiableTerrain_ac</th>\n",
       "      <td>279.0</td>\n",
       "      <td>413.363454</td>\n",
       "      <td>592.247103</td>\n",
       "      <td>8.0</td>\n",
       "      <td>71.0</td>\n",
       "      <td>169.000000</td>\n",
       "      <td>450.000000</td>\n",
       "      <td>3000.0</td>\n",
       "    </tr>\n",
       "    <tr>\n",
       "      <th>Snow Making_ac</th>\n",
       "      <td>279.0</td>\n",
       "      <td>130.770357</td>\n",
       "      <td>98.819193</td>\n",
       "      <td>2.0</td>\n",
       "      <td>50.0</td>\n",
       "      <td>112.000000</td>\n",
       "      <td>174.873239</td>\n",
       "      <td>600.0</td>\n",
       "    </tr>\n",
       "    <tr>\n",
       "      <th>daysOpenLastYear</th>\n",
       "      <td>279.0</td>\n",
       "      <td>109.378494</td>\n",
       "      <td>23.423062</td>\n",
       "      <td>53.0</td>\n",
       "      <td>97.0</td>\n",
       "      <td>108.363636</td>\n",
       "      <td>122.000000</td>\n",
       "      <td>165.0</td>\n",
       "    </tr>\n",
       "    <tr>\n",
       "      <th>yearsOpen</th>\n",
       "      <td>279.0</td>\n",
       "      <td>57.532819</td>\n",
       "      <td>16.885895</td>\n",
       "      <td>6.0</td>\n",
       "      <td>50.5</td>\n",
       "      <td>58.000000</td>\n",
       "      <td>68.500000</td>\n",
       "      <td>95.0</td>\n",
       "    </tr>\n",
       "    <tr>\n",
       "      <th>averageSnowfall</th>\n",
       "      <td>279.0</td>\n",
       "      <td>161.883511</td>\n",
       "      <td>121.915052</td>\n",
       "      <td>18.0</td>\n",
       "      <td>60.0</td>\n",
       "      <td>122.000000</td>\n",
       "      <td>250.000000</td>\n",
       "      <td>545.0</td>\n",
       "    </tr>\n",
       "    <tr>\n",
       "      <th>AdultWeekday</th>\n",
       "      <td>279.0</td>\n",
       "      <td>54.825593</td>\n",
       "      <td>19.475666</td>\n",
       "      <td>15.0</td>\n",
       "      <td>42.0</td>\n",
       "      <td>55.000000</td>\n",
       "      <td>65.000000</td>\n",
       "      <td>135.0</td>\n",
       "    </tr>\n",
       "    <tr>\n",
       "      <th>AdultWeekend</th>\n",
       "      <td>279.0</td>\n",
       "      <td>61.494748</td>\n",
       "      <td>18.239075</td>\n",
       "      <td>17.0</td>\n",
       "      <td>47.0</td>\n",
       "      <td>63.200000</td>\n",
       "      <td>71.000000</td>\n",
       "      <td>135.0</td>\n",
       "    </tr>\n",
       "    <tr>\n",
       "      <th>projectedDaysOpen</th>\n",
       "      <td>279.0</td>\n",
       "      <td>115.105302</td>\n",
       "      <td>22.335112</td>\n",
       "      <td>40.0</td>\n",
       "      <td>100.0</td>\n",
       "      <td>115.000000</td>\n",
       "      <td>130.000000</td>\n",
       "      <td>180.0</td>\n",
       "    </tr>\n",
       "    <tr>\n",
       "      <th>NightSkiing_ac</th>\n",
       "      <td>279.0</td>\n",
       "      <td>58.559140</td>\n",
       "      <td>84.210612</td>\n",
       "      <td>0.0</td>\n",
       "      <td>0.0</td>\n",
       "      <td>35.000000</td>\n",
       "      <td>90.000000</td>\n",
       "      <td>600.0</td>\n",
       "    </tr>\n",
       "    <tr>\n",
       "      <th>cluster</th>\n",
       "      <td>279.0</td>\n",
       "      <td>1.078853</td>\n",
       "      <td>0.673937</td>\n",
       "      <td>0.0</td>\n",
       "      <td>1.0</td>\n",
       "      <td>1.000000</td>\n",
       "      <td>2.000000</td>\n",
       "      <td>2.0</td>\n",
       "    </tr>\n",
       "  </tbody>\n",
       "</table>\n",
       "</div>"
      ],
      "text/plain": [
       "                   count         mean          std    min     25%  \\\n",
       "summit_elev        279.0  3913.275986  3298.684977  315.0  1285.0   \n",
       "vertical_drop      279.0   988.573477   706.141961   60.0   425.0   \n",
       "trams              279.0     0.046595     0.227548    0.0     0.0   \n",
       "fastEight          279.0     0.000000     0.000000    0.0     0.0   \n",
       "fastSixes          279.0     0.096774     0.408485    0.0     0.0   \n",
       "fastQuads          279.0     0.508961     1.017345    0.0     0.0   \n",
       "quad               279.0     0.845878     1.184997    0.0     0.0   \n",
       "triple             279.0     1.390681     1.536622    0.0     0.0   \n",
       "double             279.0     1.792115     1.817127    0.0     0.5   \n",
       "surface            279.0     2.394265     1.638817    0.0     1.0   \n",
       "total_chairs       279.0     7.075269     3.611243    0.0     5.0   \n",
       "Runs               279.0    37.278295    25.284831    3.0    18.0   \n",
       "TerrainParks       279.0     2.580414     1.482908    1.0     1.0   \n",
       "LongestRun_mi      279.0     1.167979     0.825353    0.0     0.5   \n",
       "SkiableTerrain_ac  279.0   413.363454   592.247103    8.0    71.0   \n",
       "Snow Making_ac     279.0   130.770357    98.819193    2.0    50.0   \n",
       "daysOpenLastYear   279.0   109.378494    23.423062   53.0    97.0   \n",
       "yearsOpen          279.0    57.532819    16.885895    6.0    50.5   \n",
       "averageSnowfall    279.0   161.883511   121.915052   18.0    60.0   \n",
       "AdultWeekday       279.0    54.825593    19.475666   15.0    42.0   \n",
       "AdultWeekend       279.0    61.494748    18.239075   17.0    47.0   \n",
       "projectedDaysOpen  279.0   115.105302    22.335112   40.0   100.0   \n",
       "NightSkiing_ac     279.0    58.559140    84.210612    0.0     0.0   \n",
       "cluster            279.0     1.078853     0.673937    0.0     1.0   \n",
       "\n",
       "                           50%          75%      max  \n",
       "summit_elev        2250.000000  6818.500000  12075.0  \n",
       "vertical_drop       750.000000  1500.000000   3430.0  \n",
       "trams                 0.000000     0.000000      2.0  \n",
       "fastEight             0.000000     0.000000      0.0  \n",
       "fastSixes             0.000000     0.000000      4.0  \n",
       "fastQuads             0.000000     1.000000      6.0  \n",
       "quad                  0.000000     1.000000      8.0  \n",
       "triple                1.000000     2.000000      8.0  \n",
       "double                1.000000     3.000000     14.0  \n",
       "surface               2.000000     3.000000      9.0  \n",
       "total_chairs          6.000000     9.000000     27.0  \n",
       "Runs                 28.000000    51.000000    120.0  \n",
       "TerrainParks          2.000000     3.000000     10.0  \n",
       "LongestRun_mi         1.000000     1.500000      4.0  \n",
       "SkiableTerrain_ac   169.000000   450.000000   3000.0  \n",
       "Snow Making_ac      112.000000   174.873239    600.0  \n",
       "daysOpenLastYear    108.363636   122.000000    165.0  \n",
       "yearsOpen            58.000000    68.500000     95.0  \n",
       "averageSnowfall     122.000000   250.000000    545.0  \n",
       "AdultWeekday         55.000000    65.000000    135.0  \n",
       "AdultWeekend         63.200000    71.000000    135.0  \n",
       "projectedDaysOpen   115.000000   130.000000    180.0  \n",
       "NightSkiing_ac       35.000000    90.000000    600.0  \n",
       "cluster               1.000000     2.000000      2.0  "
      ]
     },
     "execution_count": 3,
     "metadata": {},
     "output_type": "execute_result"
    }
   ],
   "source": [
    "# Define response variables and features as lists\n",
    "res_vars = ['AdultWeekend', 'AdultWeekday', \n",
    "            'daysOpenLastYear', 'projectedDaysOpen']\n",
    "cat_vars = ['Name', 'state', 'cluster']\n",
    "num_vars = [ v for v in df.columns if (v not in res_vars) & (v not in cat_vars)]\n",
    "\n",
    "# Process numeric variables\n",
    "from sklearn import preprocessing\n",
    "df2 = df.copy()\n",
    "df2[num_vars] = pd.DataFrame(preprocessing.scale(df[num_vars]))\n",
    "df.describe().T"
   ]
  },
  {
   "cell_type": "markdown",
   "metadata": {
    "colab_type": "text",
    "id": "zkBHf9smZyGB"
   },
   "source": [
    "## Create dummy features for categorical variables"
   ]
  },
  {
   "cell_type": "markdown",
   "metadata": {
    "colab_type": "text",
    "id": "vWKHm0NhAnrJ"
   },
   "source": [
    "**<font color='teal'> Create dummy variables for `State`. Add the dummies back to the dataframe and remove the original column for `State`. </font>**"
   ]
  },
  {
   "cell_type": "code",
   "execution_count": 4,
   "metadata": {},
   "outputs": [],
   "source": [
    "## Process categorical variables\n",
    "# Remove 'Name' varaiable\n",
    "# Replace 'state' and 'cluster' with indicator variables\n",
    "df2 = pd.concat([df2.drop(cat_vars, axis=1), # Drop Categorical vars \n",
    "                 pd.get_dummies(df2.state, prefix='state'), # indicator column for state\n",
    "                 pd.get_dummies(df2.cluster, prefix='cluster')], # indicator var for cluster\n",
    "                axis=1)"
   ]
  },
  {
   "cell_type": "markdown",
   "metadata": {
    "colab_type": "text",
    "id": "GAT8h4_mZyGK"
   },
   "source": [
    "## Split into training and testing datasets"
   ]
  },
  {
   "cell_type": "markdown",
   "metadata": {
    "colab_type": "text",
    "id": "6rdS8EGeAnrW"
   },
   "source": [
    "**<font color='teal'> Using train_test_split from sklearn.model_selection module, create a 75/25 split with the y = `AdultWeekend`. You will start by using the adult weekend ticket price as your response variable for modeling.</font>**"
   ]
  },
  {
   "cell_type": "code",
   "execution_count": 5,
   "metadata": {
    "colab": {},
    "colab_type": "code",
    "id": "BSkPut0gguds"
   },
   "outputs": [],
   "source": [
    "from sklearn.model_selection import train_test_split\n",
    "\n",
    "# test_size will be set to 0.25 if neither of test and train size is specified\n",
    "train, test = train_test_split(df2)"
   ]
  },
  {
   "cell_type": "code",
   "execution_count": 6,
   "metadata": {},
   "outputs": [
    {
     "data": {
      "text/html": [
       "<div>\n",
       "<style scoped>\n",
       "    .dataframe tbody tr th:only-of-type {\n",
       "        vertical-align: middle;\n",
       "    }\n",
       "\n",
       "    .dataframe tbody tr th {\n",
       "        vertical-align: top;\n",
       "    }\n",
       "\n",
       "    .dataframe thead th {\n",
       "        text-align: right;\n",
       "    }\n",
       "</style>\n",
       "<table border=\"1\" class=\"dataframe\">\n",
       "  <thead>\n",
       "    <tr style=\"text-align: right;\">\n",
       "      <th></th>\n",
       "      <th>count</th>\n",
       "      <th>mean</th>\n",
       "      <th>std</th>\n",
       "      <th>min</th>\n",
       "      <th>25%</th>\n",
       "      <th>50%</th>\n",
       "      <th>75%</th>\n",
       "      <th>max</th>\n",
       "    </tr>\n",
       "  </thead>\n",
       "  <tbody>\n",
       "    <tr>\n",
       "      <th>summit_elev</th>\n",
       "      <td>209.0</td>\n",
       "      <td>-0.033610</td>\n",
       "      <td>0.962967</td>\n",
       "      <td>-1.092781</td>\n",
       "      <td>-0.808826</td>\n",
       "      <td>-0.515759</td>\n",
       "      <td>0.755208</td>\n",
       "      <td>2.478682</td>\n",
       "    </tr>\n",
       "    <tr>\n",
       "      <th>vertical_drop</th>\n",
       "      <td>209.0</td>\n",
       "      <td>0.000917</td>\n",
       "      <td>1.031778</td>\n",
       "      <td>-1.317358</td>\n",
       "      <td>-0.799536</td>\n",
       "      <td>-0.409396</td>\n",
       "      <td>0.725556</td>\n",
       "      <td>3.463629</td>\n",
       "    </tr>\n",
       "    <tr>\n",
       "      <th>trams</th>\n",
       "      <td>209.0</td>\n",
       "      <td>0.026577</td>\n",
       "      <td>1.075858</td>\n",
       "      <td>-0.205138</td>\n",
       "      <td>-0.205138</td>\n",
       "      <td>-0.205138</td>\n",
       "      <td>-0.205138</td>\n",
       "      <td>8.600024</td>\n",
       "    </tr>\n",
       "    <tr>\n",
       "      <th>fastEight</th>\n",
       "      <td>209.0</td>\n",
       "      <td>0.000000</td>\n",
       "      <td>0.000000</td>\n",
       "      <td>0.000000</td>\n",
       "      <td>0.000000</td>\n",
       "      <td>0.000000</td>\n",
       "      <td>0.000000</td>\n",
       "      <td>0.000000</td>\n",
       "    </tr>\n",
       "    <tr>\n",
       "      <th>fastSixes</th>\n",
       "      <td>209.0</td>\n",
       "      <td>-0.037853</td>\n",
       "      <td>0.956167</td>\n",
       "      <td>-0.237336</td>\n",
       "      <td>-0.237336</td>\n",
       "      <td>-0.237336</td>\n",
       "      <td>-0.237336</td>\n",
       "      <td>9.572540</td>\n",
       "    </tr>\n",
       "    <tr>\n",
       "      <th>...</th>\n",
       "      <td>...</td>\n",
       "      <td>...</td>\n",
       "      <td>...</td>\n",
       "      <td>...</td>\n",
       "      <td>...</td>\n",
       "      <td>...</td>\n",
       "      <td>...</td>\n",
       "      <td>...</td>\n",
       "    </tr>\n",
       "    <tr>\n",
       "      <th>state_Wisconsin</th>\n",
       "      <td>209.0</td>\n",
       "      <td>0.062201</td>\n",
       "      <td>0.242100</td>\n",
       "      <td>0.000000</td>\n",
       "      <td>0.000000</td>\n",
       "      <td>0.000000</td>\n",
       "      <td>0.000000</td>\n",
       "      <td>1.000000</td>\n",
       "    </tr>\n",
       "    <tr>\n",
       "      <th>state_Wyoming</th>\n",
       "      <td>209.0</td>\n",
       "      <td>0.033493</td>\n",
       "      <td>0.180352</td>\n",
       "      <td>0.000000</td>\n",
       "      <td>0.000000</td>\n",
       "      <td>0.000000</td>\n",
       "      <td>0.000000</td>\n",
       "      <td>1.000000</td>\n",
       "    </tr>\n",
       "    <tr>\n",
       "      <th>cluster_0</th>\n",
       "      <td>209.0</td>\n",
       "      <td>0.205742</td>\n",
       "      <td>0.405213</td>\n",
       "      <td>0.000000</td>\n",
       "      <td>0.000000</td>\n",
       "      <td>0.000000</td>\n",
       "      <td>0.000000</td>\n",
       "      <td>1.000000</td>\n",
       "    </tr>\n",
       "    <tr>\n",
       "      <th>cluster_1</th>\n",
       "      <td>209.0</td>\n",
       "      <td>0.540670</td>\n",
       "      <td>0.499540</td>\n",
       "      <td>0.000000</td>\n",
       "      <td>0.000000</td>\n",
       "      <td>1.000000</td>\n",
       "      <td>1.000000</td>\n",
       "      <td>1.000000</td>\n",
       "    </tr>\n",
       "    <tr>\n",
       "      <th>cluster_2</th>\n",
       "      <td>209.0</td>\n",
       "      <td>0.253589</td>\n",
       "      <td>0.436109</td>\n",
       "      <td>0.000000</td>\n",
       "      <td>0.000000</td>\n",
       "      <td>0.000000</td>\n",
       "      <td>1.000000</td>\n",
       "      <td>1.000000</td>\n",
       "    </tr>\n",
       "  </tbody>\n",
       "</table>\n",
       "<p>61 rows × 8 columns</p>\n",
       "</div>"
      ],
      "text/plain": [
       "                 count      mean       std       min       25%       50%  \\\n",
       "summit_elev      209.0 -0.033610  0.962967 -1.092781 -0.808826 -0.515759   \n",
       "vertical_drop    209.0  0.000917  1.031778 -1.317358 -0.799536 -0.409396   \n",
       "trams            209.0  0.026577  1.075858 -0.205138 -0.205138 -0.205138   \n",
       "fastEight        209.0  0.000000  0.000000  0.000000  0.000000  0.000000   \n",
       "fastSixes        209.0 -0.037853  0.956167 -0.237336 -0.237336 -0.237336   \n",
       "...                ...       ...       ...       ...       ...       ...   \n",
       "state_Wisconsin  209.0  0.062201  0.242100  0.000000  0.000000  0.000000   \n",
       "state_Wyoming    209.0  0.033493  0.180352  0.000000  0.000000  0.000000   \n",
       "cluster_0        209.0  0.205742  0.405213  0.000000  0.000000  0.000000   \n",
       "cluster_1        209.0  0.540670  0.499540  0.000000  0.000000  1.000000   \n",
       "cluster_2        209.0  0.253589  0.436109  0.000000  0.000000  0.000000   \n",
       "\n",
       "                      75%       max  \n",
       "summit_elev      0.755208  2.478682  \n",
       "vertical_drop    0.725556  3.463629  \n",
       "trams           -0.205138  8.600024  \n",
       "fastEight        0.000000  0.000000  \n",
       "fastSixes       -0.237336  9.572540  \n",
       "...                   ...       ...  \n",
       "state_Wisconsin  0.000000  1.000000  \n",
       "state_Wyoming    0.000000  1.000000  \n",
       "cluster_0        0.000000  1.000000  \n",
       "cluster_1        1.000000  1.000000  \n",
       "cluster_2        1.000000  1.000000  \n",
       "\n",
       "[61 rows x 8 columns]"
      ]
     },
     "execution_count": 6,
     "metadata": {},
     "output_type": "execute_result"
    }
   ],
   "source": [
    "train.describe().T"
   ]
  },
  {
   "cell_type": "markdown",
   "metadata": {
    "colab_type": "text",
    "id": "UayqbwkWAnra"
   },
   "source": [
    "Here, you'll start the actual modeling work. First let's fit a multiple linear regression model to predict the `AdultWeekend` price."
   ]
  },
  {
   "cell_type": "markdown",
   "metadata": {},
   "source": [
    "# Guided Capstone Step 5 - Modeling"
   ]
  },
  {
   "cell_type": "markdown",
   "metadata": {},
   "source": [
    "You've cleaned and prepared the datasets, so now it's time to get into the most exciting part of this process: modeling! In this exercise, you will build three different models and compare each model's performance. In the end, you will choose the best model for proving insights to Big Mountain management.  \n",
    "\n",
    "1.   Problem Identification \n",
    "\n",
    "2.   Data Wrangling \n",
    "  \n",
    "3.   Exploratory Data Analysis \n",
    " \n",
    "4.   Pre-processing and Training Data Development\n",
    "\n",
    "5.   **Modeling**\n",
    "  * Fit Models with Training Data Set\n",
    "  * Review Model Outcomes — Iterate over additional models as needed.\n",
    "  * Identify the Final Model\n",
    "\n",
    "6.   Documentation\n",
    "  * Review the Results\n",
    "  * Present and share your findings - storytelling\n",
    "  * Finalize Code \n",
    "  * Finalize Documentation"
   ]
  },
  {
   "cell_type": "markdown",
   "metadata": {
    "colab_type": "text",
    "id": "D_wfsP_-Anra"
   },
   "source": [
    "## Fit Models with Training Data Set"
   ]
  },
  {
   "cell_type": "markdown",
   "metadata": {
    "colab_type": "text",
    "id": "CoI8S5SwAnrc"
   },
   "source": [
    "**<font color='teal'> Using sklearn, fit the model on your training dataset.</font>**"
   ]
  },
  {
   "cell_type": "markdown",
   "metadata": {
    "colab_type": "text",
    "id": "P_GFr8sRAnrd"
   },
   "source": [
    "#### Model 1"
   ]
  },
  {
   "cell_type": "code",
   "execution_count": 7,
   "metadata": {},
   "outputs": [],
   "source": [
    "train, test = train_test_split(df2)"
   ]
  },
  {
   "cell_type": "code",
   "execution_count": 8,
   "metadata": {
    "colab": {},
    "colab_type": "code",
    "id": "fW6K7uOPAnre"
   },
   "outputs": [],
   "source": [
    "# Import modules and functions\n",
    "from sklearn import linear_model\n",
    "from sklearn.metrics import (\n",
    "    explained_variance_score, \n",
    "    mean_absolute_error\n",
    ")"
   ]
  },
  {
   "cell_type": "code",
   "execution_count": 9,
   "metadata": {},
   "outputs": [],
   "source": [
    "# Define Series for the train and test response values\n",
    "res_var = 'AdultWeekend'\n",
    "y_train = train[res_var]\n",
    "y_test = test[res_var]"
   ]
  },
  {
   "cell_type": "code",
   "execution_count": 10,
   "metadata": {},
   "outputs": [],
   "source": [
    "# Model 1: linear regression model without tweaking parameters\n",
    "\n",
    "# Define features to use in the model\n",
    "feat_1 = [v for v in df2.columns \n",
    "          if (v not in res_vars) & (not v.startswith('cluster_'))]"
   ]
  },
  {
   "cell_type": "code",
   "execution_count": 11,
   "metadata": {},
   "outputs": [],
   "source": [
    "# Build a liner regression model\n",
    "model_1 = linear_model.LinearRegression().fit(train[feat_1], y_train)"
   ]
  },
  {
   "cell_type": "markdown",
   "metadata": {
    "colab_type": "text",
    "id": "1fHqz9-WAnrg"
   },
   "source": [
    "**<font color='teal'> Predict on the testing dataset and score the model performance with the y_test set and the y-pred values. The explained variance is a measure of the variation explained by the model. This is also known as the R-squared value. </font>**"
   ]
  },
  {
   "cell_type": "code",
   "execution_count": 12,
   "metadata": {},
   "outputs": [
    {
     "name": "stdout",
     "output_type": "stream",
     "text": [
      "Explained Variance Score: 0.537\n",
      "Mean Absolute Error     : 10.040\n"
     ]
    }
   ],
   "source": [
    "y_pred_1 = model_1.predict(test[feat_1])\n",
    "evs_1 = explained_variance_score(y_test, y_pred_1)\n",
    "mae_1 = mean_absolute_error(y_test, y_pred_1)\n",
    "\n",
    "print('Explained Variance Score: {:.3f}\\n' \n",
    "      'Mean Absolute Error     : {:.3f}'.format(evs_1, mae_1))"
   ]
  },
  {
   "cell_type": "markdown",
   "metadata": {
    "colab_type": "text",
    "id": "N4YS0WE2Anrk"
   },
   "source": [
    "## Review Model Outcomes — Iterate over additional models as needed."
   ]
  },
  {
   "cell_type": "markdown",
   "metadata": {
    "colab_type": "text",
    "id": "NWJcOuSdAnrr"
   },
   "source": [
    "**<font color='teal'> Print the intercept value from the linear model. </font>**"
   ]
  },
  {
   "cell_type": "code",
   "execution_count": 13,
   "metadata": {
    "colab": {},
    "colab_type": "code",
    "id": "3WzWejn6Anrt"
   },
   "outputs": [
    {
     "name": "stdout",
     "output_type": "stream",
     "text": [
      "Model1 intercept:  64.986\n"
     ]
    }
   ],
   "source": [
    "print('Model1 intercept: {: .3f}'.format(model_1.intercept_))"
   ]
  },
  {
   "cell_type": "markdown",
   "metadata": {
    "colab_type": "text",
    "id": "edajrenAAnrv"
   },
   "source": [
    "**<font color='teal'> The intercept is the mean `AdultWeekend` price for all the resorts given the other characteristics. The addition or subtraction of each of the coefficient values in the regression are numeric adjustments applied to the intercept to provide a particular observation's value for the `AdultWeekend` resulting value. Also, because you took the time to scale your x values in the training data, you can compare each of the coefficients for the features to determine the feature's importance. Print the coefficient values from the linear model and sort in descending order to identify the top ten most important features.</font>** \n",
    "\n",
    "Hint: make sure to review the absolute value of the coefficients, because the adjustment may be positive or negative, but what you are looking for is the magnitude of impact on your response variable."
   ]
  },
  {
   "cell_type": "code",
   "execution_count": 14,
   "metadata": {
    "colab": {},
    "colab_type": "code",
    "id": "FEKc_lmZAnrw"
   },
   "outputs": [],
   "source": [
    "def print_feats_and_coefs(features, model):\n",
    "    '''Prints feature names and their coefficients in descending order'''\n",
    "\n",
    "    coefs = dict(zip(features, model.coef_))\n",
    "\n",
    "    # To iterate and print feature names and their coefficients,\n",
    "    # create a list of tuples contains absolute value of coef,\n",
    "    # feature name, and coef.\n",
    "    abs_coefs= [(abs(coef), feat, coef) for feat, coef in coefs.items()]\n",
    "\n",
    "    print('Features and Coefficients (Desc order)')\n",
    "    print('-'*44)\n",
    "    \n",
    "    i = 1\n",
    "    for v in sorted(abs_coefs, reverse=True):\n",
    "        if i <= 20:\n",
    "            print('{:>2} {:<23}:{:> 1.3f}'.format(i, v[1], v[2]))\n",
    "            i += 1\n",
    "        else:\n",
    "            print('...')\n",
    "            break"
   ]
  },
  {
   "cell_type": "code",
   "execution_count": 15,
   "metadata": {},
   "outputs": [
    {
     "name": "stdout",
     "output_type": "stream",
     "text": [
      "Features and Coefficients (Desc order)\n",
      "--------------------------------------------\n",
      " 1 state_Nevada           : 53.709\n",
      " 2 state_Montana          :-25.270\n",
      " 3 state_Virginia         : 17.226\n",
      " 4 state_Rhode Island     : 14.707\n",
      " 5 state_Washington       :-14.395\n",
      " 6 state_New Jersey       : 14.124\n",
      " 7 state_Maryland         : 13.725\n",
      " 8 state_Idaho            :-13.660\n",
      " 9 state_Tennessee        : 12.027\n",
      "10 state_Indiana          :-11.295\n",
      "11 state_Wyoming          :-11.001\n",
      "12 state_Oregon           :-10.604\n",
      "13 state_West Virginia    : 10.259\n",
      "14 state_Iowa             :-9.801\n",
      "15 state_Ohio             :-9.510\n",
      "16 state_North Carolina   : 7.867\n",
      "17 state_Vermont          :-7.781\n",
      "18 vertical_drop          : 7.432\n",
      "19 state_Maine            :-6.993\n",
      "20 state_California       :-6.800\n",
      "...\n"
     ]
    }
   ],
   "source": [
    "print_feats_and_coefs(feat_1, model_1)"
   ]
  },
  {
   "cell_type": "markdown",
   "metadata": {
    "colab_type": "text",
    "id": "BpdALMoAAnry"
   },
   "source": [
    "**<font color='teal'>You should see that the top ten important features are different states. However, the state is not something the managers at the Big Mountain Resort can do anything about. Given that you care more about actionable traits associated with ticket pricing, rebuild the model without the state features and compare the results. </font>**"
   ]
  },
  {
   "cell_type": "markdown",
   "metadata": {
    "colab_type": "text",
    "id": "-mHYA1BzAnrz"
   },
   "source": [
    "#### Model 2"
   ]
  },
  {
   "cell_type": "code",
   "execution_count": 16,
   "metadata": {},
   "outputs": [],
   "source": [
    "# Build Model 2\n",
    "feat_2 = [f for f in feat_1 if not f.startswith('state_')]\n",
    "model_2 = linear_model.LinearRegression().fit(train[feat_2], y_train)"
   ]
  },
  {
   "cell_type": "code",
   "execution_count": 17,
   "metadata": {},
   "outputs": [
    {
     "name": "stdout",
     "output_type": "stream",
     "text": [
      "Explained Variance Score:  0.553\n",
      "Mean Absolute Error     :  10.435\n",
      "Intercept               :  61.652\n",
      "\n",
      "Features and Coefficients (Desc order)\n",
      "--------------------------------------------\n",
      " 1 SkiableTerrain_ac      :-5.330\n",
      " 2 vertical_drop          : 4.732\n",
      " 3 Runs                   : 4.442\n",
      " 4 fastQuads              : 3.862\n",
      " 5 fastSixes              : 3.496\n",
      " 6 quad                   : 3.349\n",
      " 7 trams                  :-2.498\n",
      " 8 LongestRun_mi          : 2.321\n",
      " 9 TerrainParks           :-2.105\n",
      "10 surface                :-2.069\n",
      "11 total_chairs           : 2.012\n",
      "12 yearsOpen              : 0.948\n",
      "13 averageSnowfall        : 0.841\n",
      "14 triple                 : 0.771\n",
      "15 NightSkiing_ac         : 0.767\n",
      "16 Snow Making_ac         :-0.547\n",
      "17 double                 : 0.393\n",
      "18 summit_elev            :-0.319\n",
      "19 fastEight              : 0.000\n"
     ]
    }
   ],
   "source": [
    "# Score the performance of Model 2\n",
    "y_pred_2 = model_2.predict(test[feat_2])\n",
    "evs_2 = explained_variance_score(y_test, y_pred_2)\n",
    "mae_2 = mean_absolute_error(y_test, y_pred_2)\n",
    "\n",
    "print('Explained Variance Score: {: .3f}\\n' \n",
    "      'Mean Absolute Error     : {: .3f}\\n'\n",
    "      'Intercept               : {: .3f}\\n'\\\n",
    "      .format(evs_2, mae_2, model_2.intercept_))\n",
    "print_feats_and_coefs(feat_2, model_2)"
   ]
  },
  {
   "cell_type": "markdown",
   "metadata": {
    "colab_type": "text",
    "id": "JWjQLr3LAnr6"
   },
   "source": [
    "**<font color='teal'> When reviewing your new model coefficients, note that `summit_elev` is now in the number two spot. From a managerial perspective, this is also difficult to change and highly correlated with `base_elev` and `vertical_drop`.  This time rebuild the model without the state features and without the `summit_elev` and without `base_elev`and compare the results. </font>**"
   ]
  },
  {
   "cell_type": "markdown",
   "metadata": {
    "colab_type": "text",
    "id": "RXqvcn93Anr7"
   },
   "source": [
    "#### Model 3"
   ]
  },
  {
   "cell_type": "code",
   "execution_count": 18,
   "metadata": {
    "colab": {},
    "colab_type": "code",
    "id": "pq0pW7G9Anr_"
   },
   "outputs": [],
   "source": [
    "# Build Model 3\n",
    "feat_3 = [v for v in feat_2 \n",
    "          if (v != 'summit_elev') & (v != 'vertical_drop')]\n",
    "model_3 = linear_model.LinearRegression().fit(train[feat_3], y_train)"
   ]
  },
  {
   "cell_type": "code",
   "execution_count": 19,
   "metadata": {
    "colab": {},
    "colab_type": "code",
    "id": "reXlf0HAAnsG"
   },
   "outputs": [
    {
     "name": "stdout",
     "output_type": "stream",
     "text": [
      "Explained Variance Score:  0.522\n",
      "Mean Absolute Error     :  11.081\n",
      "Intercept               :  61.864\n",
      "\n",
      "Features and Coefficients (Desc order)\n",
      "--------------------------------------------\n",
      " 1 Runs                   : 5.127\n",
      " 2 fastQuads              : 4.434\n",
      " 3 SkiableTerrain_ac      :-4.020\n",
      " 4 fastSixes              : 3.476\n",
      " 5 LongestRun_mi          : 3.395\n",
      " 6 quad                   : 3.217\n",
      " 7 surface                :-2.410\n",
      " 8 trams                  :-2.338\n",
      " 9 TerrainParks           :-2.034\n",
      "10 total_chairs           : 1.889\n",
      "11 averageSnowfall        : 1.841\n",
      "12 yearsOpen              : 0.875\n",
      "13 triple                 : 0.730\n",
      "14 NightSkiing_ac         : 0.296\n",
      "15 double                 : 0.241\n",
      "16 Snow Making_ac         :-0.097\n",
      "17 fastEight              : 0.000\n"
     ]
    }
   ],
   "source": [
    "# Score the performance of Model 3\n",
    "y_pred_3 = model_3.predict(test[feat_3])\n",
    "evs_3 = explained_variance_score(y_test, y_pred_3)\n",
    "mae_3 = mean_absolute_error(y_test, y_pred_3)\n",
    "print('Explained Variance Score: {: .3f}\\n' \n",
    "      'Mean Absolute Error     : {: .3f}\\n'\n",
    "      'Intercept               : {: .3f}\\n'\\\n",
    "      .format(evs_3, mae_3, model_3.intercept_))\n",
    "print_feats_and_coefs(feat_3, model_3)"
   ]
  },
  {
   "cell_type": "markdown",
   "metadata": {
    "colab_type": "text",
    "id": "MJvQMns6AnsI"
   },
   "source": [
    "## Identify the Final Model"
   ]
  },
  {
   "cell_type": "markdown",
   "metadata": {
    "colab_type": "text",
    "id": "LD7-3iLcAnsK"
   },
   "source": [
    "**<font color='teal'> Review the model performances in the table below and choose the best model for proving insights to Big Mountain management about what features are driving ski resort lift ticket prices. Type your choice in the final markdown cell. You will explain your selection during the next step of the guided casptone. </font>**"
   ]
  },
  {
   "cell_type": "code",
   "execution_count": 23,
   "metadata": {},
   "outputs": [
    {
     "name": "stdout",
     "output_type": "stream",
     "text": [
      "Model   | Explained Variance | Mean Absolute Error | Features dropped\n",
      "Model 1 |              0.537 |              10.040 | -\n",
      "Model 2 |              0.553 |              10.435 |'state'\n",
      "Model 3 |              0.522 |              11.081 |'state','summit_elev', 'base_elev'\n"
     ]
    }
   ],
   "source": [
    "print('Model   | {:^18} | {:^19} | Features dropped'.format('Explained Variance', 'Mean Absolute Error'))\n",
    "print('Model 1 | {:18.3f} | {:19.3f} | -'.format(evs_1, mae_1))\n",
    "print('Model 2 | {:18.3f} | {:19.3f} |\\'state\\''.format(evs_2, mae_2))\n",
    "print('Model 3 | {:18.3f} | {:19.3f} |\\'state\\',\\'summit_elev\\', \\'base_elev\\''.format(evs_3, mae_3))"
   ]
  },
  {
   "cell_type": "code",
   "execution_count": 25,
   "metadata": {},
   "outputs": [],
   "source": [
    "train.to_csv('./training.csv', index=False)\n",
    "test.to_csv('./testing.csv', index=False)"
   ]
  },
  {
   "cell_type": "markdown",
   "metadata": {
    "colab_type": "text",
    "id": "T2c-zn7TAnsL"
   },
   "source": [
    "Model Selection: Model 2"
   ]
  },
  {
   "cell_type": "code",
   "execution_count": 21,
   "metadata": {},
   "outputs": [],
   "source": [
    "# Optional works\n",
    "\n",
    "## 1. Check p-values\n",
    "import statsmodels.api as sm\n",
    "\n",
    "# Model 1\n",
    "x_train_1 = train[feat_1].copy()\n",
    "x_train_1['const'] = 1\n",
    "result_1 = sm.OLS(y_train, x_train_1).fit().summary()\n",
    "\n",
    "# Model 2\n",
    "x_train_2 = train[feat_2].copy()\n",
    "x_train_2['const'] = 1\n",
    "result_2 = sm.OLS(y_train, x_train_1).fit().summary()\n",
    "\n",
    "# Model 3\n",
    "x_train_3 = train[feat_3].copy()\n",
    "x_train_3['const'] = 1\n",
    "result_3 = sm.OLS(y_train, x_train_3).fit().summary()\n",
    "\n",
    "# print(result_2)"
   ]
  },
  {
   "cell_type": "code",
   "execution_count": 22,
   "metadata": {},
   "outputs": [
    {
     "ename": "NameError",
     "evalue": "name 'cluster_vars' is not defined",
     "output_type": "error",
     "traceback": [
      "\u001b[0;31m---------------------------------------------------------------------------\u001b[0m",
      "\u001b[0;31mNameError\u001b[0m                                 Traceback (most recent call last)",
      "\u001b[0;32m<ipython-input-22-764b98e1e35a>\u001b[0m in \u001b[0;36m<module>\u001b[0;34m\u001b[0m\n\u001b[1;32m      1\u001b[0m \u001b[0;31m## 2. Utilize categorical variables\u001b[0m\u001b[0;34m\u001b[0m\u001b[0;34m\u001b[0m\u001b[0;34m\u001b[0m\u001b[0m\n\u001b[1;32m      2\u001b[0m \u001b[0;31m# Model A: Utilize cluster instead of state\u001b[0m\u001b[0;34m\u001b[0m\u001b[0;34m\u001b[0m\u001b[0;34m\u001b[0m\u001b[0m\n\u001b[0;32m----> 3\u001b[0;31m \u001b[0mfeat_a\u001b[0m \u001b[0;34m=\u001b[0m \u001b[0mlist\u001b[0m\u001b[0;34m(\u001b[0m\u001b[0mset\u001b[0m\u001b[0;34m(\u001b[0m\u001b[0mnum_vars\u001b[0m\u001b[0;34m)\u001b[0m \u001b[0;34m|\u001b[0m \u001b[0mset\u001b[0m\u001b[0;34m(\u001b[0m\u001b[0mcluster_vars\u001b[0m\u001b[0;34m)\u001b[0m\u001b[0;34m)\u001b[0m\u001b[0;34m\u001b[0m\u001b[0;34m\u001b[0m\u001b[0m\n\u001b[0m\u001b[1;32m      4\u001b[0m \u001b[0mfeat_a\u001b[0m \u001b[0;34m=\u001b[0m \u001b[0;34m[\u001b[0m\u001b[0mf\u001b[0m \u001b[0;32mfor\u001b[0m \u001b[0mf\u001b[0m \u001b[0;32min\u001b[0m \u001b[0mfeat_a\u001b[0m \u001b[0;32mif\u001b[0m \u001b[0;32mnot\u001b[0m \u001b[0mf\u001b[0m\u001b[0;34m.\u001b[0m\u001b[0mstartswith\u001b[0m\u001b[0;34m(\u001b[0m\u001b[0;34m'state_'\u001b[0m\u001b[0;34m)\u001b[0m\u001b[0;34m]\u001b[0m\u001b[0;34m\u001b[0m\u001b[0;34m\u001b[0m\u001b[0m\n\u001b[1;32m      5\u001b[0m \u001b[0;34m\u001b[0m\u001b[0m\n",
      "\u001b[0;31mNameError\u001b[0m: name 'cluster_vars' is not defined"
     ]
    }
   ],
   "source": [
    "## 2. Utilize categorical variables\n",
    "# Model A: Utilize cluster instead of state\n",
    "feat_a = list(set(num_vars) | set(cluster_vars))\n",
    "feat_a = [f for f in feat_a if not f.startswith('state_')]\n",
    "\n",
    "x_train_a = train[feat_a]\n",
    "model_a = sm.OLS(y_train, x_train_a).fit()\n",
    "model_a.summary()\n",
    "\n",
    "model_a2 = linear_model.LinearRegression().fit(x_train_a, y_train)\n",
    "evs, mae = perf_score(model_a2, test[feat_a])\n",
    "print('Explained Variance Score: {0: .3f}\\n'\\\n",
    "      'Mean Absolute Error     : {1: .3f}'.format(evs, mae))"
   ]
  },
  {
   "cell_type": "code",
   "execution_count": null,
   "metadata": {},
   "outputs": [],
   "source": []
  }
 ],
 "metadata": {
  "colab": {
   "collapsed_sections": [
    "RtEspslPZyGY",
    "s0DokMkAZyGc",
    "2iuitnKcZyHS",
    "iAWQxougZyHW",
    "ThMTimlBZyHZ",
    "QwZ-LkjXZyHt",
    "srtXEA3N4-Y9",
    "ChVreJupZyIA",
    "zDgSSsq1ZyID",
    "I3GYKWfi5Llg",
    "pmMvrhbI-viE",
    "ZXDPkW3UZyIX",
    "Dnc_vHQLZyId",
    "daJxuJ-dZyIg",
    "mAQ-oHiPZyIn",
    "hnGOsp3mZyIp"
   ],
   "name": "GuidedCapstoneStep5.ipynb",
   "provenance": []
  },
  "kernelspec": {
   "display_name": "Python 3",
   "language": "python",
   "name": "python3"
  },
  "language_info": {
   "codemirror_mode": {
    "name": "ipython",
    "version": 3
   },
   "file_extension": ".py",
   "mimetype": "text/x-python",
   "name": "python",
   "nbconvert_exporter": "python",
   "pygments_lexer": "ipython3",
   "version": "3.7.6"
  },
  "toc": {
   "base_numbering": "0",
   "nav_menu": {},
   "number_sections": true,
   "sideBar": true,
   "skip_h1_title": false,
   "title_cell": "Table of Contents",
   "title_sidebar": "Contents",
   "toc_cell": true,
   "toc_position": {
    "height": "calc(100% - 180px)",
    "left": "10px",
    "top": "150px",
    "width": "288px"
   },
   "toc_section_display": true,
   "toc_window_display": true
  }
 },
 "nbformat": 4,
 "nbformat_minor": 1
}
