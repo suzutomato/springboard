{
 "cells": [
  {
   "cell_type": "markdown",
   "metadata": {
    "colab_type": "text",
    "id": "cf5CmXQCZyF1"
   },
   "source": [
    "# Guided Capstone Step 4 - Pre-processing and Training Data Development"
   ]
  },
  {
   "cell_type": "markdown",
   "metadata": {
    "colab_type": "text",
    "id": "JbZXsVevfr9M"
   },
   "source": [
    "### **The Data Science Method**  \n",
    "\n",
    "\n",
    "1.   Problem Identification \n",
    "\n",
    "2.   Data Wrangling \n",
    "  \n",
    "3.   Exploratory Data Analysis \n",
    " \n",
    "4.   **Pre-processing and Training Data Development**\n",
    "\n",
    "5.  Modeling\n",
    "  * Fit Models with Training Data Set\n",
    "  * Review Model Outcomes — Iterate over additional models as needed.\n",
    "  * Identify the Final Model\n",
    "\n",
    "6.   Documentation\n",
    "  * Review the Results\n",
    "  * Present and share your findings - storytelling\n",
    "  * Finalize Code \n",
    "  * Finalize Documentation"
   ]
  },
  {
   "cell_type": "markdown",
   "metadata": {
    "colab_type": "text",
    "id": "GyZga0DpAnq7"
   },
   "source": [
    "In this step of the guided capstone, you'll revisit some of the steps you completed to solve questions in step 4. Revisiting these steps will help you get additional practice completing this kind of work."
   ]
  },
  {
   "cell_type": "markdown",
   "metadata": {
    "colab_type": "text",
    "id": "K8xfkAqqZyF2"
   },
   "source": [
    "**<font color='teal'> Start by loading the necessary packages, as you've done in the previous steps. Print out your current working directory to confirm that you are in the correct project directory. </font>**"
   ]
  },
  {
   "cell_type": "code",
   "execution_count": 1,
   "metadata": {
    "colab": {},
    "colab_type": "code",
    "id": "ry6WPL5eZyF3"
   },
   "outputs": [],
   "source": [
    "import datetime\n",
    "import os \n",
    "\n",
    "import matplotlib.pyplot as plt\n",
    "import numpy as np\n",
    "import pandas as pd\n",
    "import seaborn as sns\n",
    "%matplotlib inline"
   ]
  },
  {
   "cell_type": "markdown",
   "metadata": {
    "colab_type": "text",
    "id": "630T-ogRZyF8"
   },
   "source": [
    "**<font color='teal'>  Load the csv file you created in step 3. Remember, it should be saved inside your data subfolder. Print the first five rows.</font>**"
   ]
  },
  {
   "cell_type": "code",
   "execution_count": 2,
   "metadata": {
    "colab": {},
    "colab_type": "code",
    "id": "dMNbk0u3ZyF9"
   },
   "outputs": [
    {
     "data": {
      "text/html": [
       "<div>\n",
       "<style scoped>\n",
       "    .dataframe tbody tr th:only-of-type {\n",
       "        vertical-align: middle;\n",
       "    }\n",
       "\n",
       "    .dataframe tbody tr th {\n",
       "        vertical-align: top;\n",
       "    }\n",
       "\n",
       "    .dataframe thead th {\n",
       "        text-align: right;\n",
       "    }\n",
       "</style>\n",
       "<table border=\"1\" class=\"dataframe\">\n",
       "  <thead>\n",
       "    <tr style=\"text-align: right;\">\n",
       "      <th></th>\n",
       "      <th>0</th>\n",
       "      <th>1</th>\n",
       "      <th>2</th>\n",
       "      <th>3</th>\n",
       "      <th>4</th>\n",
       "    </tr>\n",
       "  </thead>\n",
       "  <tbody>\n",
       "    <tr>\n",
       "      <th>Name</th>\n",
       "      <td>Hilltop Ski Area</td>\n",
       "      <td>Arizona Snowbowl</td>\n",
       "      <td>Sunrise Park Resort</td>\n",
       "      <td>Yosemite Ski &amp; Snowboard Area</td>\n",
       "      <td>Bear Valley</td>\n",
       "    </tr>\n",
       "    <tr>\n",
       "      <th>state</th>\n",
       "      <td>Alaska</td>\n",
       "      <td>Arizona</td>\n",
       "      <td>Arizona</td>\n",
       "      <td>California</td>\n",
       "      <td>California</td>\n",
       "    </tr>\n",
       "    <tr>\n",
       "      <th>summit_elev</th>\n",
       "      <td>2090</td>\n",
       "      <td>11500</td>\n",
       "      <td>11100</td>\n",
       "      <td>7800</td>\n",
       "      <td>8500</td>\n",
       "    </tr>\n",
       "    <tr>\n",
       "      <th>vertical_drop</th>\n",
       "      <td>294</td>\n",
       "      <td>2300</td>\n",
       "      <td>1800</td>\n",
       "      <td>600</td>\n",
       "      <td>1900</td>\n",
       "    </tr>\n",
       "    <tr>\n",
       "      <th>trams</th>\n",
       "      <td>0</td>\n",
       "      <td>0</td>\n",
       "      <td>0</td>\n",
       "      <td>0</td>\n",
       "      <td>0</td>\n",
       "    </tr>\n",
       "    <tr>\n",
       "      <th>fastEight</th>\n",
       "      <td>0</td>\n",
       "      <td>0</td>\n",
       "      <td>0</td>\n",
       "      <td>0</td>\n",
       "      <td>0</td>\n",
       "    </tr>\n",
       "    <tr>\n",
       "      <th>fastSixes</th>\n",
       "      <td>0</td>\n",
       "      <td>1</td>\n",
       "      <td>0</td>\n",
       "      <td>0</td>\n",
       "      <td>1</td>\n",
       "    </tr>\n",
       "    <tr>\n",
       "      <th>fastQuads</th>\n",
       "      <td>0</td>\n",
       "      <td>0</td>\n",
       "      <td>1</td>\n",
       "      <td>0</td>\n",
       "      <td>1</td>\n",
       "    </tr>\n",
       "    <tr>\n",
       "      <th>quad</th>\n",
       "      <td>0</td>\n",
       "      <td>2</td>\n",
       "      <td>2</td>\n",
       "      <td>0</td>\n",
       "      <td>0</td>\n",
       "    </tr>\n",
       "    <tr>\n",
       "      <th>triple</th>\n",
       "      <td>1</td>\n",
       "      <td>2</td>\n",
       "      <td>3</td>\n",
       "      <td>1</td>\n",
       "      <td>2</td>\n",
       "    </tr>\n",
       "    <tr>\n",
       "      <th>double</th>\n",
       "      <td>0</td>\n",
       "      <td>1</td>\n",
       "      <td>1</td>\n",
       "      <td>3</td>\n",
       "      <td>4</td>\n",
       "    </tr>\n",
       "    <tr>\n",
       "      <th>surface</th>\n",
       "      <td>2</td>\n",
       "      <td>2</td>\n",
       "      <td>0</td>\n",
       "      <td>1</td>\n",
       "      <td>2</td>\n",
       "    </tr>\n",
       "    <tr>\n",
       "      <th>total_chairs</th>\n",
       "      <td>3</td>\n",
       "      <td>8</td>\n",
       "      <td>7</td>\n",
       "      <td>5</td>\n",
       "      <td>10</td>\n",
       "    </tr>\n",
       "    <tr>\n",
       "      <th>Runs</th>\n",
       "      <td>13</td>\n",
       "      <td>55</td>\n",
       "      <td>65</td>\n",
       "      <td>10</td>\n",
       "      <td>67</td>\n",
       "    </tr>\n",
       "    <tr>\n",
       "      <th>TerrainParks</th>\n",
       "      <td>1</td>\n",
       "      <td>4</td>\n",
       "      <td>2</td>\n",
       "      <td>2</td>\n",
       "      <td>2</td>\n",
       "    </tr>\n",
       "    <tr>\n",
       "      <th>LongestRun_mi</th>\n",
       "      <td>1</td>\n",
       "      <td>2</td>\n",
       "      <td>1.2</td>\n",
       "      <td>0.4</td>\n",
       "      <td>1.2</td>\n",
       "    </tr>\n",
       "    <tr>\n",
       "      <th>SkiableTerrain_ac</th>\n",
       "      <td>30</td>\n",
       "      <td>777</td>\n",
       "      <td>800</td>\n",
       "      <td>88</td>\n",
       "      <td>1680</td>\n",
       "    </tr>\n",
       "    <tr>\n",
       "      <th>Snow Making_ac</th>\n",
       "      <td>30</td>\n",
       "      <td>104</td>\n",
       "      <td>80</td>\n",
       "      <td>174.873</td>\n",
       "      <td>100</td>\n",
       "    </tr>\n",
       "    <tr>\n",
       "      <th>daysOpenLastYear</th>\n",
       "      <td>150</td>\n",
       "      <td>122</td>\n",
       "      <td>115</td>\n",
       "      <td>110</td>\n",
       "      <td>165</td>\n",
       "    </tr>\n",
       "    <tr>\n",
       "      <th>yearsOpen</th>\n",
       "      <td>36</td>\n",
       "      <td>81</td>\n",
       "      <td>49</td>\n",
       "      <td>84</td>\n",
       "      <td>52</td>\n",
       "    </tr>\n",
       "    <tr>\n",
       "      <th>averageSnowfall</th>\n",
       "      <td>69</td>\n",
       "      <td>260</td>\n",
       "      <td>250</td>\n",
       "      <td>300</td>\n",
       "      <td>359</td>\n",
       "    </tr>\n",
       "    <tr>\n",
       "      <th>AdultWeekday</th>\n",
       "      <td>30</td>\n",
       "      <td>89</td>\n",
       "      <td>74</td>\n",
       "      <td>47</td>\n",
       "      <td>57.917</td>\n",
       "    </tr>\n",
       "    <tr>\n",
       "      <th>AdultWeekend</th>\n",
       "      <td>34</td>\n",
       "      <td>89</td>\n",
       "      <td>78</td>\n",
       "      <td>47</td>\n",
       "      <td>64.1668</td>\n",
       "    </tr>\n",
       "    <tr>\n",
       "      <th>projectedDaysOpen</th>\n",
       "      <td>152</td>\n",
       "      <td>122</td>\n",
       "      <td>104</td>\n",
       "      <td>107</td>\n",
       "      <td>151</td>\n",
       "    </tr>\n",
       "    <tr>\n",
       "      <th>NightSkiing_ac</th>\n",
       "      <td>30</td>\n",
       "      <td>0</td>\n",
       "      <td>80</td>\n",
       "      <td>0</td>\n",
       "      <td>0</td>\n",
       "    </tr>\n",
       "    <tr>\n",
       "      <th>cluster</th>\n",
       "      <td>0</td>\n",
       "      <td>1</td>\n",
       "      <td>1</td>\n",
       "      <td>1</td>\n",
       "      <td>1</td>\n",
       "    </tr>\n",
       "  </tbody>\n",
       "</table>\n",
       "</div>"
      ],
      "text/plain": [
       "                                  0                 1                    2  \\\n",
       "Name               Hilltop Ski Area  Arizona Snowbowl  Sunrise Park Resort   \n",
       "state                        Alaska           Arizona              Arizona   \n",
       "summit_elev                    2090             11500                11100   \n",
       "vertical_drop                   294              2300                 1800   \n",
       "trams                             0                 0                    0   \n",
       "fastEight                         0                 0                    0   \n",
       "fastSixes                         0                 1                    0   \n",
       "fastQuads                         0                 0                    1   \n",
       "quad                              0                 2                    2   \n",
       "triple                            1                 2                    3   \n",
       "double                            0                 1                    1   \n",
       "surface                           2                 2                    0   \n",
       "total_chairs                      3                 8                    7   \n",
       "Runs                             13                55                   65   \n",
       "TerrainParks                      1                 4                    2   \n",
       "LongestRun_mi                     1                 2                  1.2   \n",
       "SkiableTerrain_ac                30               777                  800   \n",
       "Snow Making_ac                   30               104                   80   \n",
       "daysOpenLastYear                150               122                  115   \n",
       "yearsOpen                        36                81                   49   \n",
       "averageSnowfall                  69               260                  250   \n",
       "AdultWeekday                     30                89                   74   \n",
       "AdultWeekend                     34                89                   78   \n",
       "projectedDaysOpen               152               122                  104   \n",
       "NightSkiing_ac                   30                 0                   80   \n",
       "cluster                           0                 1                    1   \n",
       "\n",
       "                                               3            4  \n",
       "Name               Yosemite Ski & Snowboard Area  Bear Valley  \n",
       "state                                 California   California  \n",
       "summit_elev                                 7800         8500  \n",
       "vertical_drop                                600         1900  \n",
       "trams                                          0            0  \n",
       "fastEight                                      0            0  \n",
       "fastSixes                                      0            1  \n",
       "fastQuads                                      0            1  \n",
       "quad                                           0            0  \n",
       "triple                                         1            2  \n",
       "double                                         3            4  \n",
       "surface                                        1            2  \n",
       "total_chairs                                   5           10  \n",
       "Runs                                          10           67  \n",
       "TerrainParks                                   2            2  \n",
       "LongestRun_mi                                0.4          1.2  \n",
       "SkiableTerrain_ac                             88         1680  \n",
       "Snow Making_ac                           174.873          100  \n",
       "daysOpenLastYear                             110          165  \n",
       "yearsOpen                                     84           52  \n",
       "averageSnowfall                              300          359  \n",
       "AdultWeekday                                  47       57.917  \n",
       "AdultWeekend                                  47      64.1668  \n",
       "projectedDaysOpen                            107          151  \n",
       "NightSkiing_ac                                 0            0  \n",
       "cluster                                        1            1  "
      ]
     },
     "execution_count": 2,
     "metadata": {},
     "output_type": "execute_result"
    }
   ],
   "source": [
    "df = pd.read_csv('./data/step3_output.csv')\n",
    "df.head().T #Transposed to show column names"
   ]
  },
  {
   "cell_type": "markdown",
   "metadata": {},
   "source": [
    "## Standardize the magnitude of numeric features\n",
    "\n",
    "**<font color='teal'> Using sklearn preprocessing, standardize the scale of the features of the dataframe except the name of the resort, which you don't need in the dataframe for modeling so it can be droppped here as well. You should  hold out your response variable(s) so that you can have their true values available for model performance review. Let's set `AdultWeekend` to the y variable as your response for scaling and modeling. Later, you will go back and consider the `AdultWeekday`, `dayOpenLastYear`, and `projectedDaysOpen`. For now leave, them in the development dataframe. </font>**"
   ]
  },
  {
   "cell_type": "code",
   "execution_count": 3,
   "metadata": {},
   "outputs": [],
   "source": [
    "# Define response variables and features as lists\n",
    "res_vars = ['AdultWeekend', 'AdultWeekday', \n",
    "            'daysOpenLastYear', 'projectedDaysOpen']\n",
    "cat_vars = ['Name', 'state', 'cluster']\n",
    "num_vars = list(set(df.columns) - set(res_vars) - set(cat_vars))\n",
    "\n",
    "\n",
    "# Process numeric variables\n",
    "from sklearn import preprocessing\n",
    "df[num_vars] = preprocessing.scale(df[num_vars])"
   ]
  },
  {
   "cell_type": "markdown",
   "metadata": {
    "colab_type": "text",
    "id": "zkBHf9smZyGB"
   },
   "source": [
    "## Create dummy features for categorical variables"
   ]
  },
  {
   "cell_type": "markdown",
   "metadata": {
    "colab_type": "text",
    "id": "vWKHm0NhAnrJ"
   },
   "source": [
    "**<font color='teal'> Create dummy variables for `State`. Add the dummies back to the dataframe and remove the original column for `State`. </font>**"
   ]
  },
  {
   "cell_type": "code",
   "execution_count": 4,
   "metadata": {},
   "outputs": [],
   "source": [
    "## Process categorical variables\n",
    "# Remove 'Name' varaiable\n",
    "# Replace 'state' and 'cluster' with indicator variables\n",
    "df = pd.concat([df.drop(cat_vars, axis=1), # Drop Categorical vars \n",
    "                pd.get_dummies(df.state, prefix='state'), # indicator column for state\n",
    "                pd.get_dummies(df.cluster, prefix='cluster')], # indicator var for cluster\n",
    "               axis=1)"
   ]
  },
  {
   "cell_type": "markdown",
   "metadata": {
    "colab_type": "text",
    "id": "GAT8h4_mZyGK"
   },
   "source": [
    "## Split into training and testing datasets"
   ]
  },
  {
   "cell_type": "markdown",
   "metadata": {
    "colab_type": "text",
    "id": "6rdS8EGeAnrW"
   },
   "source": [
    "**<font color='teal'> Using train_test_split from sklearn.model_selection module, create a 75/25 split with the y = `AdultWeekend`. You will start by using the adult weekend ticket price as your response variable for modeling.</font>**"
   ]
  },
  {
   "cell_type": "code",
   "execution_count": 5,
   "metadata": {
    "colab": {},
    "colab_type": "code",
    "id": "BSkPut0gguds"
   },
   "outputs": [],
   "source": [
    "from sklearn.model_selection import train_test_split\n",
    "\n",
    "# test_size will be set to 0.25 if neither of test and train size is specified\n",
    "train, test = train_test_split(df)"
   ]
  },
  {
   "cell_type": "code",
   "execution_count": 6,
   "metadata": {},
   "outputs": [
    {
     "name": "stdout",
     "output_type": "stream",
     "text": [
      "train: 139 entries (74.73%)\n",
      " test:  47 entries (25.27%)\n"
     ]
    }
   ],
   "source": [
    "# Confirm the split\n",
    "len_train, len_test = len(train), len(test)\n",
    "rat_train, rat_test = len(train)/len(df), len(test)/len(df)\n",
    "\n",
    "print('train: {:>3} entries ({:.2%})\\n test: {:>3} entries ({:.2%})'\\\n",
    "      .format(len_train, rat_train, len_test, rat_test ))"
   ]
  },
  {
   "cell_type": "markdown",
   "metadata": {
    "colab_type": "text",
    "id": "UayqbwkWAnra"
   },
   "source": [
    "Here, you'll start the actual modeling work. First let's fit a multiple linear regression model to predict the `AdultWeekend` price."
   ]
  },
  {
   "cell_type": "markdown",
   "metadata": {},
   "source": [
    "# Guided Capstone Step 5 - Modeling"
   ]
  },
  {
   "cell_type": "markdown",
   "metadata": {},
   "source": [
    "You've cleaned and prepared the datasets, so now it's time to get into the most exciting part of this process: modeling! In this exercise, you will build three different models and compare each model's performance. In the end, you will choose the best model for proving insights to Big Mountain management.  \n",
    "\n",
    "1.   Problem Identification \n",
    "\n",
    "2.   Data Wrangling \n",
    "  \n",
    "3.   Exploratory Data Analysis \n",
    " \n",
    "4.   Pre-processing and Training Data Development\n",
    "\n",
    "5.   **Modeling**\n",
    "  * Fit Models with Training Data Set\n",
    "  * Review Model Outcomes — Iterate over additional models as needed.\n",
    "  * Identify the Final Model\n",
    "\n",
    "6.   Documentation\n",
    "  * Review the Results\n",
    "  * Present and share your findings - storytelling\n",
    "  * Finalize Code \n",
    "  * Finalize Documentation"
   ]
  },
  {
   "cell_type": "markdown",
   "metadata": {
    "colab_type": "text",
    "id": "D_wfsP_-Anra"
   },
   "source": [
    "## Fit Models with Training Data Set"
   ]
  },
  {
   "cell_type": "markdown",
   "metadata": {
    "colab_type": "text",
    "id": "CoI8S5SwAnrc"
   },
   "source": [
    "**<font color='teal'> Using sklearn, fit the model on your training dataset.</font>**"
   ]
  },
  {
   "cell_type": "markdown",
   "metadata": {
    "colab_type": "text",
    "id": "P_GFr8sRAnrd"
   },
   "source": [
    "#### Model 1"
   ]
  },
  {
   "cell_type": "code",
   "execution_count": 7,
   "metadata": {
    "colab": {},
    "colab_type": "code",
    "id": "fW6K7uOPAnre"
   },
   "outputs": [],
   "source": [
    "# Import modules and functions\n",
    "from sklearn import linear_model\n",
    "from sklearn.metrics import (\n",
    "    explained_variance_score, \n",
    "    mean_absolute_error\n",
    ")"
   ]
  },
  {
   "cell_type": "code",
   "execution_count": 8,
   "metadata": {},
   "outputs": [],
   "source": [
    "# Define Series for the train and test response values\n",
    "res_var = 'AdultWeekend'\n",
    "y_train = train[res_var]\n",
    "y_test = test[res_var]"
   ]
  },
  {
   "cell_type": "code",
   "execution_count": 9,
   "metadata": {},
   "outputs": [],
   "source": [
    "# Model 1: linear regression model without tweaking parameters\n",
    "\n",
    "# Define features to use in the model\n",
    "feat_1 = [v for v in df.columns \n",
    "          if (v not in res_vars) & (not v.startswith('cluster_'))]\n",
    "\n",
    "# Build a liner regression model\n",
    "model_1 = linear_model.LinearRegression().fit(train[feat_1], y_train)"
   ]
  },
  {
   "cell_type": "markdown",
   "metadata": {
    "colab_type": "text",
    "id": "1fHqz9-WAnrg"
   },
   "source": [
    "**<font color='teal'> Predict on the testing dataset and score the model performance with the y_test set and the y-pred values. The explained variance is a measure of the variation explained by the model. This is also known as the R-squared value. </font>**"
   ]
  },
  {
   "cell_type": "code",
   "execution_count": 10,
   "metadata": {},
   "outputs": [
    {
     "name": "stdout",
     "output_type": "stream",
     "text": [
      "Explained Variance Score: 0.190\n",
      "Mean Absolute Error     : 10.939\n"
     ]
    }
   ],
   "source": [
    "y_pred_1 = model_1.predict(test[feat_1])\n",
    "evs_1 = explained_variance_score(y_test, y_pred_1)\n",
    "mae_1 = mean_absolute_error(y_test, y_pred_1)\n",
    "\n",
    "print('Explained Variance Score: {:.3f}\\n' \n",
    "      'Mean Absolute Error     : {:.3f}'.format(evs_1, mae_1))"
   ]
  },
  {
   "cell_type": "markdown",
   "metadata": {
    "colab_type": "text",
    "id": "N4YS0WE2Anrk"
   },
   "source": [
    "## Review Model Outcomes — Iterate over additional models as needed."
   ]
  },
  {
   "cell_type": "markdown",
   "metadata": {
    "colab_type": "text",
    "id": "NWJcOuSdAnrr"
   },
   "source": [
    "**<font color='teal'> Print the intercept value from the linear model. </font>**"
   ]
  },
  {
   "cell_type": "code",
   "execution_count": 11,
   "metadata": {
    "colab": {},
    "colab_type": "code",
    "id": "3WzWejn6Anrt"
   },
   "outputs": [
    {
     "name": "stdout",
     "output_type": "stream",
     "text": [
      "Model1 intercept:  33658714850963.973\n"
     ]
    }
   ],
   "source": [
    "print('Model1 intercept: {: .3f}'.format(model_1.intercept_))"
   ]
  },
  {
   "cell_type": "markdown",
   "metadata": {
    "colab_type": "text",
    "id": "edajrenAAnrv"
   },
   "source": [
    "**<font color='teal'> The intercept is the mean `AdultWeekend` price for all the resorts given the other characteristics. The addition or subtraction of each of the coefficient values in the regression are numeric adjustments applied to the intercept to provide a particular observation's value for the `AdultWeekend` resulting value. Also, because you took the time to scale your x values in the training data, you can compare each of the coefficients for the features to determine the feature's importance. Print the coefficient values from the linear model and sort in descending order to identify the top ten most important features.</font>** \n",
    "\n",
    "Hint: make sure to review the absolute value of the coefficients, because the adjustment may be positive or negative, but what you are looking for is the magnitude of impact on your response variable."
   ]
  },
  {
   "cell_type": "code",
   "execution_count": 12,
   "metadata": {
    "colab": {},
    "colab_type": "code",
    "id": "FEKc_lmZAnrw"
   },
   "outputs": [],
   "source": [
    "def print_feats_and_coefs(features, model):\n",
    "    '''Prints feature names and their coefficients in descending order'''\n",
    "\n",
    "    coefs = dict(zip(features, model.coef_))\n",
    "\n",
    "    # To iterate and print feature names and their coefficients,\n",
    "    # create a list of tuples contains absolute value of coef,\n",
    "    # feature name, and coef.\n",
    "    abs_coefs= [(abs(coef), feat, coef) for feat, coef in coefs.items()]\n",
    "\n",
    "    print('Features and Coefficients (Desc order)')\n",
    "    print('-'*44)\n",
    "    \n",
    "    i = 1\n",
    "    for v in sorted(abs_coefs, reverse=True):\n",
    "        if i <= 20:\n",
    "            print('{:>2} {:<23}:{:> 1.3f}'.format(i, v[1], v[2]))\n",
    "            i += 1\n",
    "        else:\n",
    "            print('...')\n",
    "            break"
   ]
  },
  {
   "cell_type": "code",
   "execution_count": 13,
   "metadata": {},
   "outputs": [
    {
     "name": "stdout",
     "output_type": "stream",
     "text": [
      "Features and Coefficients (Desc order)\n",
      "--------------------------------------------\n",
      " 1 fastEight              : 1137261104105837.500\n",
      " 2 total_chairs           :-751229288721908.375\n",
      " 3 surface                : 399435748740031.250\n",
      " 4 double                 : 389952207010978.875\n",
      " 5 triple                 : 325968326494350.812\n",
      " 6 fastQuads              : 220902949049891.688\n",
      " 7 quad                   : 207890633285360.656\n",
      " 8 fastSixes              : 78969349544323.953\n",
      " 9 trams                  : 41242972974163.195\n",
      "10 state_Alaska           :-33658714850930.547\n",
      "11 state_South Dakota     :-33658714850924.219\n",
      "12 state_Montana          :-33658714850923.953\n",
      "13 state_Oregon           :-33658714850923.316\n",
      "14 state_Idaho            :-33658714850920.156\n",
      "15 state_Ohio             :-33658714850918.523\n",
      "16 state_Wyoming          :-33658714850917.609\n",
      "17 state_New Mexico       :-33658714850916.750\n",
      "18 state_Washington       :-33658714850915.359\n",
      "19 state_California       :-33658714850912.938\n",
      "20 state_Iowa             :-33658714850912.746\n",
      "...\n"
     ]
    }
   ],
   "source": [
    "print_feats_and_coefs(feat_1, model_1)"
   ]
  },
  {
   "cell_type": "markdown",
   "metadata": {
    "colab_type": "text",
    "id": "BpdALMoAAnry"
   },
   "source": [
    "**<font color='teal'>You should see that the top ten important features are different states. However, the state is not something the managers at the Big Mountain Resort can do anything about. Given that you care more about actionable traits associated with ticket pricing, rebuild the model without the state features and compare the results. </font>**"
   ]
  },
  {
   "cell_type": "markdown",
   "metadata": {
    "colab_type": "text",
    "id": "-mHYA1BzAnrz"
   },
   "source": [
    "#### Model 2"
   ]
  },
  {
   "cell_type": "code",
   "execution_count": 14,
   "metadata": {},
   "outputs": [],
   "source": [
    "# Build Model 2\n",
    "feat_2 = [f for f in feat_1 if not f.startswith('state_')]\n",
    "model_2 = linear_model.LinearRegression().fit(train[feat_2], y_train)"
   ]
  },
  {
   "cell_type": "code",
   "execution_count": 15,
   "metadata": {},
   "outputs": [
    {
     "name": "stdout",
     "output_type": "stream",
     "text": [
      "Explained Variance Score:  0.576\n",
      "Mean Absolute Error     :  8.228\n",
      "Intercept               :  58.406\n",
      "\n",
      "Features and Coefficients (Desc order)\n",
      "--------------------------------------------\n",
      " 1 vertical_drop          : 5.113\n",
      " 2 SkiableTerrain_ac      :-3.807\n",
      " 3 Runs                   : 3.175\n",
      " 4 fastSixes              : 2.509\n",
      " 5 fastQuads              : 2.386\n",
      " 6 triple                 : 2.097\n",
      " 7 surface                :-1.686\n",
      " 8 total_chairs           : 1.664\n",
      " 9 LongestRun_mi          : 1.384\n",
      "10 Snow Making_ac         : 1.283\n",
      "11 summit_elev            :-1.280\n",
      "12 quad                   : 1.263\n",
      "13 averageSnowfall        : 1.198\n",
      "14 NightSkiing_ac         : 0.960\n",
      "15 TerrainParks           :-0.698\n",
      "16 double                 : 0.685\n",
      "17 trams                  :-0.371\n",
      "18 yearsOpen              :-0.210\n",
      "19 fastEight              :-0.000\n"
     ]
    }
   ],
   "source": [
    "# Score the performance of Model 2\n",
    "y_pred_2 = model_2.predict(test[feat_2])\n",
    "evs_2 = explained_variance_score(y_test, y_pred_2)\n",
    "mae_2 = mean_absolute_error(y_test, y_pred_2)\n",
    "\n",
    "print('Explained Variance Score: {: .3f}\\n' \n",
    "      'Mean Absolute Error     : {: .3f}\\n'\n",
    "      'Intercept               : {: .3f}\\n'\\\n",
    "      .format(evs_2, mae_2, model_2.intercept_))\n",
    "print_feats_and_coefs(feat_2, model_2)"
   ]
  },
  {
   "cell_type": "markdown",
   "metadata": {
    "colab_type": "text",
    "id": "JWjQLr3LAnr6"
   },
   "source": [
    "**<font color='teal'> When reviewing your new model coefficients, note that `summit_elev` is now in the number two spot. From a managerial perspective, this is also difficult to change and highly correlated with `base_elev` and `vertical_drop`.  This time rebuild the model without the state features and without the `summit_elev` and without `base_elev`and compare the results. </font>**"
   ]
  },
  {
   "cell_type": "markdown",
   "metadata": {
    "colab_type": "text",
    "id": "RXqvcn93Anr7"
   },
   "source": [
    "#### Model 3"
   ]
  },
  {
   "cell_type": "code",
   "execution_count": 16,
   "metadata": {
    "colab": {},
    "colab_type": "code",
    "id": "pq0pW7G9Anr_"
   },
   "outputs": [],
   "source": [
    "# Build Model 3\n",
    "feat_3 = [v for v in feat_2 \n",
    "          if (v != 'summit_elev') & (v != 'vertical_drop')]\n",
    "model_3 = linear_model.LinearRegression().fit(train[feat_3], y_train)"
   ]
  },
  {
   "cell_type": "code",
   "execution_count": 17,
   "metadata": {
    "colab": {},
    "colab_type": "code",
    "id": "reXlf0HAAnsG"
   },
   "outputs": [
    {
     "name": "stdout",
     "output_type": "stream",
     "text": [
      "Explained Variance Score:  0.509\n",
      "Mean Absolute Error     :  8.543\n",
      "Intercept               :  58.483\n",
      "\n",
      "Features and Coefficients (Desc order)\n",
      "--------------------------------------------\n",
      " 1 Runs                   : 4.076\n",
      " 2 SkiableTerrain_ac      :-2.854\n",
      " 3 fastSixes              : 2.801\n",
      " 4 LongestRun_mi          : 2.774\n",
      " 5 fastQuads              : 2.677\n",
      " 6 surface                :-2.013\n",
      " 7 Snow Making_ac         : 1.947\n",
      " 8 triple                 : 1.864\n",
      " 9 total_chairs           : 1.606\n",
      "10 averageSnowfall        : 1.548\n",
      "11 quad                   : 1.401\n",
      "12 double                 : 0.781\n",
      "13 NightSkiing_ac         : 0.687\n",
      "14 TerrainParks           :-0.428\n",
      "15 yearsOpen              :-0.268\n",
      "16 trams                  :-0.147\n",
      "17 fastEight              :-0.000\n"
     ]
    }
   ],
   "source": [
    "# Score the performance of Model 3\n",
    "y_pred_3 = model_3.predict(test[feat_3])\n",
    "evs_3 = explained_variance_score(y_test, y_pred_3)\n",
    "mae_3 = mean_absolute_error(y_test, y_pred_3)\n",
    "print('Explained Variance Score: {: .3f}\\n' \n",
    "      'Mean Absolute Error     : {: .3f}\\n'\n",
    "      'Intercept               : {: .3f}\\n'\\\n",
    "      .format(evs_3, mae_3, model_3.intercept_))\n",
    "print_feats_and_coefs(feat_3, model_3)"
   ]
  },
  {
   "cell_type": "markdown",
   "metadata": {
    "colab_type": "text",
    "id": "MJvQMns6AnsI"
   },
   "source": [
    "## Identify the Final Model"
   ]
  },
  {
   "cell_type": "markdown",
   "metadata": {
    "colab_type": "text",
    "id": "LD7-3iLcAnsK"
   },
   "source": [
    "**<font color='teal'> Review the model performances in the table below and choose the best model for proving insights to Big Mountain management about what features are driving ski resort lift ticket prices. Type your choice in the final markdown cell. You will explain your selection during the next step of the guided casptone. </font>**"
   ]
  },
  {
   "cell_type": "code",
   "execution_count": 18,
   "metadata": {},
   "outputs": [
    {
     "name": "stdout",
     "output_type": "stream",
     "text": [
      "Model   | Explained Variance | Mean Absolute Error | Features dropped\n",
      "Model 1 | -94810581495479042834432.000 |    716156846239.053 | -\n",
      "Model 2 |              0.576 |               8.228 |'state'\n",
      "Model 3 |              0.509 |               8.543 |'state','summit_elev', 'base_elev'\n"
     ]
    }
   ],
   "source": [
    "print('Model   | {:^18} | {:^19} | Features dropped'.format('Explained Variance', 'Mean Absolute Error'))\n",
    "print('Model 1 | {:18.3f} | {:19.3f} | -'.format(evs_1, mae_1))\n",
    "print('Model 2 | {:18.3f} | {:19.3f} |\\'state\\''.format(evs_2, mae_2))\n",
    "print('Model 3 | {:18.3f} | {:19.3f} |\\'state\\',\\'summit_elev\\', \\'base_elev\\''.format(evs_3, mae_3))"
   ]
  },
  {
   "cell_type": "markdown",
   "metadata": {
    "colab_type": "text",
    "id": "T2c-zn7TAnsL"
   },
   "source": [
    "Model Selection: Model 2"
   ]
  },
  {
   "cell_type": "code",
   "execution_count": 19,
   "metadata": {},
   "outputs": [],
   "source": [
    "# Optional works\n",
    "\n",
    "## 1. Check p-values\n",
    "import statsmodels.api as sm\n",
    "\n",
    "# Model 1\n",
    "x_train_1 = train[feat_1].copy()\n",
    "x_train_1['const'] = 1\n",
    "result_1 = sm.OLS(y_train, x_train_1).fit().summary()\n",
    "\n",
    "# Model 2\n",
    "x_train_2 = train[feat_2].copy()\n",
    "x_train_2['const'] = 1\n",
    "result_2 = sm.OLS(y_train, x_train_1).fit().summary()\n",
    "\n",
    "# Model 3\n",
    "x_train_3 = train[feat_3].copy()\n",
    "x_train_3['const'] = 1\n",
    "result_3 = sm.OLS(y_train, x_train_3).fit().summary()\n",
    "\n",
    "# print(result_2)"
   ]
  },
  {
   "cell_type": "code",
   "execution_count": 20,
   "metadata": {},
   "outputs": [
    {
     "ename": "NameError",
     "evalue": "name 'cluster_vars' is not defined",
     "output_type": "error",
     "traceback": [
      "\u001b[0;31m---------------------------------------------------------------------------\u001b[0m",
      "\u001b[0;31mNameError\u001b[0m                                 Traceback (most recent call last)",
      "\u001b[0;32m<ipython-input-20-764b98e1e35a>\u001b[0m in \u001b[0;36m<module>\u001b[0;34m\u001b[0m\n\u001b[1;32m      1\u001b[0m \u001b[0;31m## 2. Utilize categorical variables\u001b[0m\u001b[0;34m\u001b[0m\u001b[0;34m\u001b[0m\u001b[0;34m\u001b[0m\u001b[0m\n\u001b[1;32m      2\u001b[0m \u001b[0;31m# Model A: Utilize cluster instead of state\u001b[0m\u001b[0;34m\u001b[0m\u001b[0;34m\u001b[0m\u001b[0;34m\u001b[0m\u001b[0m\n\u001b[0;32m----> 3\u001b[0;31m \u001b[0mfeat_a\u001b[0m \u001b[0;34m=\u001b[0m \u001b[0mlist\u001b[0m\u001b[0;34m(\u001b[0m\u001b[0mset\u001b[0m\u001b[0;34m(\u001b[0m\u001b[0mnum_vars\u001b[0m\u001b[0;34m)\u001b[0m \u001b[0;34m|\u001b[0m \u001b[0mset\u001b[0m\u001b[0;34m(\u001b[0m\u001b[0mcluster_vars\u001b[0m\u001b[0;34m)\u001b[0m\u001b[0;34m)\u001b[0m\u001b[0;34m\u001b[0m\u001b[0;34m\u001b[0m\u001b[0m\n\u001b[0m\u001b[1;32m      4\u001b[0m \u001b[0mfeat_a\u001b[0m \u001b[0;34m=\u001b[0m \u001b[0;34m[\u001b[0m\u001b[0mf\u001b[0m \u001b[0;32mfor\u001b[0m \u001b[0mf\u001b[0m \u001b[0;32min\u001b[0m \u001b[0mfeat_a\u001b[0m \u001b[0;32mif\u001b[0m \u001b[0;32mnot\u001b[0m \u001b[0mf\u001b[0m\u001b[0;34m.\u001b[0m\u001b[0mstartswith\u001b[0m\u001b[0;34m(\u001b[0m\u001b[0;34m'state_'\u001b[0m\u001b[0;34m)\u001b[0m\u001b[0;34m]\u001b[0m\u001b[0;34m\u001b[0m\u001b[0;34m\u001b[0m\u001b[0m\n\u001b[1;32m      5\u001b[0m \u001b[0;34m\u001b[0m\u001b[0m\n",
      "\u001b[0;31mNameError\u001b[0m: name 'cluster_vars' is not defined"
     ]
    }
   ],
   "source": [
    "## 2. Utilize categorical variables\n",
    "# Model A: Utilize cluster instead of state\n",
    "feat_a = list(set(num_vars) | set(cluster_vars))\n",
    "feat_a = [f for f in feat_a if not f.startswith('state_')]\n",
    "\n",
    "x_train_a = train[feat_a]\n",
    "model_a = sm.OLS(y_train, x_train_a).fit()\n",
    "model_a.summary()\n",
    "\n",
    "model_a2 = linear_model.LinearRegression().fit(x_train_a, y_train)\n",
    "evs, mae = perf_score(model_a2, test[feat_a])\n",
    "print('Explained Variance Score: {0: .3f}\\n'\\\n",
    "      'Mean Absolute Error     : {1: .3f}'.format(evs, mae))"
   ]
  },
  {
   "cell_type": "code",
   "execution_count": null,
   "metadata": {},
   "outputs": [],
   "source": []
  }
 ],
 "metadata": {
  "colab": {
   "collapsed_sections": [
    "RtEspslPZyGY",
    "s0DokMkAZyGc",
    "2iuitnKcZyHS",
    "iAWQxougZyHW",
    "ThMTimlBZyHZ",
    "QwZ-LkjXZyHt",
    "srtXEA3N4-Y9",
    "ChVreJupZyIA",
    "zDgSSsq1ZyID",
    "I3GYKWfi5Llg",
    "pmMvrhbI-viE",
    "ZXDPkW3UZyIX",
    "Dnc_vHQLZyId",
    "daJxuJ-dZyIg",
    "mAQ-oHiPZyIn",
    "hnGOsp3mZyIp"
   ],
   "name": "GuidedCapstoneStep5.ipynb",
   "provenance": []
  },
  "kernelspec": {
   "display_name": "Python 3",
   "language": "python",
   "name": "python3"
  },
  "language_info": {
   "codemirror_mode": {
    "name": "ipython",
    "version": 3
   },
   "file_extension": ".py",
   "mimetype": "text/x-python",
   "name": "python",
   "nbconvert_exporter": "python",
   "pygments_lexer": "ipython3",
   "version": "3.7.6"
  },
  "toc": {
   "base_numbering": "0",
   "nav_menu": {},
   "number_sections": true,
   "sideBar": true,
   "skip_h1_title": false,
   "title_cell": "Table of Contents",
   "title_sidebar": "Contents",
   "toc_cell": true,
   "toc_position": {
    "height": "calc(100% - 180px)",
    "left": "10px",
    "top": "150px",
    "width": "288px"
   },
   "toc_section_display": true,
   "toc_window_display": true
  }
 },
 "nbformat": 4,
 "nbformat_minor": 1
}
