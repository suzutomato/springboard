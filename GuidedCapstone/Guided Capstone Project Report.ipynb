{
 "cells": [
  {
   "cell_type": "markdown",
   "metadata": {},
   "source": [
    "# Recommendation to Big Mountain Resort\n",
    "### Lift fees can be raised by \\\\$15.00\n",
    "\n",
    "The linear regression model built on the data of more than 300 resorts in the U.S. predicts out price of a weekend adult lift ticket to be \\\\$97.50. Given the current price of \\\\$81.00, an increase of \\\\$15.00 should be acceptable or reasonable to the market."
   ]
  },
  {
   "cell_type": "markdown",
   "metadata": {},
   "source": [
    "# Major findings (Impactful features of our resort)"
   ]
  },
  {
   "cell_type": "markdown",
   "metadata": {},
   "source": [
    "###  Price increases as the number of Quad/Fast Quad lifts increases\n",
    "One of the most impactful features in the model were the number of quad lifts and that of fast quad lifts.\n",
    "![](figures/fig3.png)\n",
    "![](figures/fig5.png)"
   ]
  },
  {
   "cell_type": "markdown",
   "metadata": {},
   "source": [
    "###  Price increases as the number of Runs increases\n",
    "![](figures/fig2.png)"
   ]
  }
 ],
 "metadata": {
  "kernelspec": {
   "display_name": "Python 3",
   "language": "python",
   "name": "python3"
  },
  "language_info": {
   "codemirror_mode": {
    "name": "ipython",
    "version": 3
   },
   "file_extension": ".py",
   "mimetype": "text/x-python",
   "name": "python",
   "nbconvert_exporter": "python",
   "pygments_lexer": "ipython3",
   "version": "3.7.6"
  }
 },
 "nbformat": 4,
 "nbformat_minor": 4
}
